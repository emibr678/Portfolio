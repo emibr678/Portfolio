{
  "nbformat": 4,
  "nbformat_minor": 0,
  "metadata": {
    "colab": {
      "name": "recipe_generator_train.ipynb",
      "provenance": [],
      "collapsed_sections": [
        "qvJE3o0jRCmp",
        "7NGl5NBeRP1g",
        "ST91OO4wPd_c"
      ],
      "toc_visible": true
    },
    "kernelspec": {
      "display_name": "Python 3",
      "language": "python",
      "name": "python3"
    },
    "language_info": {
      "codemirror_mode": {
        "name": "ipython",
        "version": 3
      },
      "file_extension": ".py",
      "mimetype": "text/x-python",
      "name": "python",
      "nbconvert_exporter": "python",
      "pygments_lexer": "ipython3",
      "version": "3.8.5"
    },
    "accelerator": "GPU"
  },
  "cells": [
    {
      "cell_type": "code",
      "metadata": {
        "colab": {
          "base_uri": "https://localhost:8080/"
        },
        "id": "Q8y9I43VHw6D",
        "outputId": "781d27dc-d20d-4168-b73b-5741264257c0"
      },
      "source": [
        "from google.colab import drive\n",
        "drive.mount('/content/drive')"
      ],
      "execution_count": null,
      "outputs": [
        {
          "output_type": "stream",
          "text": [
            "Mounted at /content/drive\n"
          ],
          "name": "stdout"
        }
      ]
    },
    {
      "cell_type": "markdown",
      "metadata": {
        "id": "kzzMP87nH2Em"
      },
      "source": [
        "#1.PREPROCESS - CLEANING\n"
      ]
    },
    {
      "cell_type": "code",
      "metadata": {
        "id": "nRIceRGv8fUB"
      },
      "source": [
        "import numpy as np\n",
        "import pandas as pd\n",
        "#Source: https://eightportions.com/datasets/Recipes/#fn:1\n",
        "data1 = pd.DataFrame.transpose(pd.read_json(\"/content/drive/MyDrive/Colab files/recipes_raw_nosource_ar.json\"))\n",
        "data2 = pd.DataFrame.transpose(pd.read_json(\"/content/drive/MyDrive/Colab files/recipes_raw_nosource_epi.json\"))\n",
        "data3 = pd.DataFrame.transpose(pd.read_json(\"/content/drive/MyDrive/Colab files/recipes_raw_nosource_fn.json\"))\n",
        "\n"
      ],
      "execution_count": null,
      "outputs": []
    },
    {
      "cell_type": "markdown",
      "metadata": {
        "id": "jnsAlGPfjr5i"
      },
      "source": [
        "### 1.1 Clean data2 from duplicate instructions"
      ]
    },
    {
      "cell_type": "code",
      "metadata": {
        "id": "g4yEgicV0zUl",
        "colab": {
          "base_uri": "https://localhost:8080/"
        },
        "outputId": "25ed22e1-dc9e-42ce-af99-89ea1f526bc3"
      },
      "source": [
        "#Instructions in data2 are all duplicates, where the instructions is written on a single line or with newline. \n",
        "#Below function is used to clean this.\n",
        "def removeDuplicates(df):\n",
        "  count = 0\n",
        "  for row in df.itertuples():\n",
        "    cleaned = row.instructions.split('\\n', 1)\n",
        "    \n",
        "    if len(cleaned) > 1:\n",
        "      df.at[row.Index, \"instructions\"] = cleaned[1] #Keeps the instructions with newline for each new instruction. One-line instruction is at cleaned[0]\n",
        "      count += 1\n",
        "\n",
        "  print(\"Total Recipes from data2: \" + str(len(df)))\n",
        "  print(\"Duplicates Cleaned from data2: \" + str(count))\n",
        "  df = df[[\"title\", \"ingredients\", \"instructions\"]]\n",
        "  return df\n",
        "data2 = removeDuplicates(data2.copy())"
      ],
      "execution_count": null,
      "outputs": [
        {
          "output_type": "stream",
          "text": [
            "Total Recipes from data2: 25323\n",
            "Duplicates Cleaned from data2: 25300\n"
          ],
          "name": "stdout"
        }
      ]
    },
    {
      "cell_type": "markdown",
      "metadata": {
        "id": "BQ8xve5gjr5i"
      },
      "source": [
        "### 1.2 Merge the three datasets into one."
      ]
    },
    {
      "cell_type": "code",
      "metadata": {
        "id": "yPWOIS9X07c1"
      },
      "source": [
        "df_merged = pd.concat([data1, data2, data3])"
      ],
      "execution_count": null,
      "outputs": []
    },
    {
      "cell_type": "markdown",
      "metadata": {
        "id": "PCkbummwIeIZ"
      },
      "source": [
        "### 1.3 Removes recipes containing NaN values & Dropping picture link column"
      ]
    },
    {
      "cell_type": "code",
      "metadata": {
        "id": "FcMG5vI08fUC",
        "colab": {
          "base_uri": "https://localhost:8080/"
        },
        "outputId": "3fc6f279-61ea-4df1-892d-4c74abf0e710"
      },
      "source": [
        "def requiredFields(df):\n",
        "    required_fields = [\"title\", \"ingredients\", \"instructions\"]\n",
        "    \n",
        "    for field in required_fields:\n",
        "        df.drop(df.loc[df[field].isnull() == True].index, axis=0, inplace=True)\n",
        "    df.drop(\"picture_link\", inplace=True, axis=1)\n",
        "    return df\n",
        "\n",
        "\n",
        "df_cleaned = requiredFields(df_merged.copy())\n",
        "print(len(df_merged))\n",
        "print(len(df_cleaned))\n",
        "print(str(len(df_merged)-len(df_cleaned)) + \" \" + \"NaN recipes removed from the dataset\")"
      ],
      "execution_count": null,
      "outputs": [
        {
          "output_type": "stream",
          "text": [
            "125164\n",
            "124473\n",
            "691 NaN recipes removed from the dataset\n"
          ],
          "name": "stdout"
        }
      ]
    },
    {
      "cell_type": "markdown",
      "metadata": {
        "id": "qvJE3o0jRCmp"
      },
      "source": [
        "### 1.4 Function to remove sentences beginning with \"Photograph by...\"\n",
        "The picture-link column was dropped in 1.3, but some recipes still contains the photographers name in their ingredient and instruction section.\n"
      ]
    },
    {
      "cell_type": "code",
      "metadata": {
        "id": "4OfA0FoB8fUE"
      },
      "source": [
        "stop = [\"Instructions\", \"▪︎\"]\n",
        "\n",
        "photograph_count = 0\n",
        "\n",
        "def findNames(recipe): #Sentences like \"photograph by antonis achilleos\" appears all over the dataset. Remove this.\n",
        "    global photograph_count\n",
        "    new = recipe.lower().split()\n",
        "\n",
        "    if \"photograph\" in new:\n",
        "        idx_from = new.index(\"photograph\")\n",
        "        recipe_idx_from = recipe.index(\"photograph\")\n",
        "        for word in new[idx_from:]:\n",
        "            if word in stop:\n",
        "              break\n",
        "            if new.index(word) == len(new)-1:\n",
        "              break\n",
        "            end_word = word\n",
        "            \n",
        "        recipe_idx_to = recipe.find(end_word, recipe_idx_from)\n",
        "        recipe_idx_to = recipe.find(\" \", recipe_idx_to)\n",
        "        photograph_count += 1\n",
        "        return([recipe_idx_from, recipe_idx_to])\n",
        "    return None\n",
        "\n"
      ],
      "execution_count": null,
      "outputs": []
    },
    {
      "cell_type": "markdown",
      "metadata": {
        "id": "KPa8GmZ8I7iv"
      },
      "source": [
        "### 1.5 Clean units in parathesis\n",
        "Sometimes two units is given e.g. 2 (10 ounces) cans of."
      ]
    },
    {
      "cell_type": "code",
      "metadata": {
        "id": "to3kwrh_I2hE"
      },
      "source": [
        "def removeParanthesis(ing): \n",
        "    new_ing = []\n",
        "    s = re.findall('\\(([^)]+)', ing)\n",
        "    for words in s:\n",
        "        ing = ing.replace(words, \"\").replace(\"()\", \"\").replace(\"  \", \" \").replace(\" .\", \".\")\n",
        "        \n",
        "    return ing\n",
        "    "
      ],
      "execution_count": null,
      "outputs": []
    },
    {
      "cell_type": "markdown",
      "metadata": {
        "id": "7NGl5NBeRP1g"
      },
      "source": [
        "### 1.6 Convert the dataframe into a list of strings"
      ]
    },
    {
      "cell_type": "code",
      "metadata": {
        "id": "RL4zcfle8fUF"
      },
      "source": [
        "#####################################################REWRITE THIS###############################################################\n",
        "STOP_WORD_TITLE = 'Title'\n",
        "STOP_WORD_INGREDIENTS = '\\nIngredients\\n'\n",
        "STOP_WORD_INSTRUCTIONS = '\\nInstructions\\n'\n",
        "import re\n",
        "\n",
        "def recipe_to_string(recipe):\n",
        "    remove_string = 'ADVERTISEMENT'\n",
        "    \n",
        "    title = recipe.title\n",
        "    ingredients = recipe.ingredients\n",
        "    instructions = recipe.instructions.split('\\n')\n",
        "        \n",
        "    ingredients_string = ''\n",
        "    for ingredient in ingredients:\n",
        "        ingredient = ingredient.replace(remove_string, '')\n",
        "        ingredient = ingredient.replace(';', '')\n",
        "        ingredient = ingredient.replace(\":\", '')\n",
        "        if ingredient:\n",
        "            ingredients_string += f'• {ingredient}\\n'\n",
        "    \n",
        "    instructions_string = ''\n",
        "    for instruction in instructions:\n",
        "        instruction = instruction.replace(remove_string, '')\n",
        "        instruction = instruction.replace(';', '')\n",
        "        instruction = instruction.replace(\":\", '')\n",
        "        if instruction:\n",
        "            instructions_string += f'▪︎ {instruction}\\n'\n",
        "    \n",
        "    ingredients_string = removeParanthesis(ingredients_string).lower()\n",
        "    instructions_string = removeParanthesis(instructions_string).lower()\n",
        "    title = title.lower()\n",
        "    \n",
        "    new_recipe = f'{STOP_WORD_TITLE} {title}\\n{STOP_WORD_INGREDIENTS}{ingredients_string}{STOP_WORD_INSTRUCTIONS}{instructions_string}'\n",
        "    \n",
        "    photograph_by = findNames(new_recipe)\n",
        "    \n",
        "    if photograph_by is not None:\n",
        "        new_recipe = new_recipe[:photograph_by[0]-3] + new_recipe[photograph_by[1]:]\n",
        "\n",
        "    return new_recipe"
      ],
      "execution_count": null,
      "outputs": []
    },
    {
      "cell_type": "code",
      "metadata": {
        "id": "pPv3GnXj8fUF",
        "colab": {
          "base_uri": "https://localhost:8080/"
        },
        "outputId": "30291baf-9641-49e7-d927-57c9024d0744"
      },
      "source": [
        "photograph_count = 0\n",
        "df_string = [recipe_to_string(recipe) for recipe in df_cleaned.itertuples()]\n",
        "print(\"\\\"Photograph by...\\\" strings removed from: \" + str(photograph_count) + \" recipes\")\n",
        "print(\"Total number of recipes: \" + str(len(df_string)))\n"
      ],
      "execution_count": null,
      "outputs": [
        {
          "output_type": "stream",
          "text": [
            "\"Photograph by...\" strings removed from: 4220 recipes\n",
            "Total number of recipes: 124473\n"
          ],
          "name": "stdout"
        }
      ]
    },
    {
      "cell_type": "markdown",
      "metadata": {
        "id": "ST91OO4wPd_c"
      },
      "source": [
        "### 1.7 Removing trademark/copyright/reserved recipes\n",
        "This makes sure that only ingredients is used, and not for example a specific brand of an ingredient. Example below: \"pure leaf™\""
      ]
    },
    {
      "cell_type": "code",
      "metadata": {
        "id": "F05S3XqRPoFK",
        "colab": {
          "base_uri": "https://localhost:8080/"
        },
        "outputId": "5995aa8f-643b-4252-f6ed-0f774e0f7c52"
      },
      "source": [
        "for i in df_string[40000:]:\n",
        "    if \"™\" in i:\n",
        "        print(i)\n",
        "        break"
      ],
      "execution_count": null,
      "outputs": [
        {
          "output_type": "stream",
          "text": [
            "Title crispy garlic-parmesan chicken\n",
            "\n",
            "Ingredients\n",
            "• 4 boneless skinless chicken breasts\n",
            "• 1/4 cup butter, melted\n",
            "• 1 can progresso™ recipe starters™ creamy parmesan basil cooking sauce\n",
            "• 1/4 teaspoon garlic powder\n",
            "• 2/3 cup progresso® italian style panko crispy bread crumbs\n",
            "• 2/3 cup finely shredded parmesan or asiago cheese\n",
            "• hot cooked pasta or mashed potatoes, if desired\n",
            "• garnishes, if desired\n",
            "• additional shredded parmesan or asiago cheese\n",
            "• chopped fresh basil or parsley\n",
            "\n",
            "Instructions\n",
            "▪︎ 1. heat oven to 400 degrees f. line cookie sheet with foil spray with cooking spray. between pieces of plastic wrap or waxed paper, place each chicken breast smooth side down gently pound with flat side of meat mallet or rolling pin until about 1/2 inch thick. sprinkle chicken with salt and pepper to taste.\n",
            "▪︎ 2. in shallow dish, mix butter, 3 tablespoons of the cooking sauce and the garlic powder. in another shallow dish, mix bread crumbs and cheese. dip chicken into butter mixture, then dip into bread crumb mixture to coat. place on cookie sheet.\n",
            "▪︎ 3. bake 12 to 15 minutes, turning once, until juice of chicken is clear when center of thickest part is cut and coating is golden brown. meanwhile, heat remaining sauce until hot. serve chicken with pasta and sauce. sprinkle with additional cheese and basil.\n",
            "\n"
          ],
          "name": "stdout"
        }
      ]
    },
    {
      "cell_type": "code",
      "metadata": {
        "id": "Vvcv4JHoKphf",
        "colab": {
          "base_uri": "https://localhost:8080/"
        },
        "outputId": "58067106-d408-48a0-e687-065e4e3582f2"
      },
      "source": [
        "trademark = (\"®\", \"™\", \"©\")\n",
        "\n",
        "def filterTrademarkRecipes(df):\n",
        "  df_new = []\n",
        "  for idx, recipe in enumerate(df):\n",
        "    if not any(word in recipe for word in trademark):\n",
        "      df_new.append(recipe)\n",
        "  return df_new\n",
        "\n",
        "df_string_new = filterTrademarkRecipes(df_string)\n",
        "print(\"Number of recipes containing trademark/copyright/reserved removed: \" + str(len(df_string) - len(df_string_new)))"
      ],
      "execution_count": null,
      "outputs": [
        {
          "output_type": "stream",
          "text": [
            "Number of recipes containing trademark/copyright/reserved removed: 3701\n"
          ],
          "name": "stdout"
        }
      ]
    },
    {
      "cell_type": "markdown",
      "metadata": {
        "id": "PSh-ozwISDPo"
      },
      "source": [
        "### 1.8 Filter recipes by length\n",
        "This is to reduce the sample size (due to hardware limitations), but also to remove outliers. Most recipes seems to be between 75-300 words."
      ]
    },
    {
      "cell_type": "code",
      "metadata": {
        "id": "J_VifluD8fUG",
        "colab": {
          "base_uri": "https://localhost:8080/",
          "height": 265
        },
        "outputId": "8628cae0-507b-495c-c3da-f92042e9b41f"
      },
      "source": [
        "import matplotlib.pyplot as plt\n",
        "recipes_lengths = [len(string.split()) for string in df_string_new]\n",
        "\n",
        "plt.hist(recipes_lengths, range=(0, 1000), bins=50)\n",
        "plt.show()"
      ],
      "execution_count": null,
      "outputs": [
        {
          "output_type": "display_data",
          "data": {
            "image/png": "[encoded data removed]",
            "text/plain": [
              "<Figure size 432x288 with 1 Axes>"
            ]
          },
          "metadata": {
            "tags": [],
            "needs_background": "light"
          }
        }
      ]
    },
    {
      "cell_type": "code",
      "metadata": {
        "id": "G2FBxfK28fUH",
        "colab": {
          "base_uri": "https://localhost:8080/"
        },
        "outputId": "a56b6bb0-df3d-4ebb-8a67-80d86aa73b22"
      },
      "source": [
        "import math\n",
        "import random\n",
        "MIN_LENGTH = 75\n",
        "MAX_LENGTH = 300\n",
        "\n",
        "def filterRecipes(df):\n",
        "    filtered_df = []\n",
        "    for recipe in df:\n",
        "        if len(recipe.split()) < MAX_LENGTH and len(recipe.split()) > MIN_LENGTH:\n",
        "            filtered_df.append(str(recipe))\n",
        "\n",
        "    return filtered_df\n",
        "\n",
        "df_filtered = filterRecipes(df_string.copy())\n",
        "print(\"Recipes before filtering: \" + str(len(df_string)))\n",
        "print(\"Recipes after filtering:  \" + str(len(df_filtered)))\n",
        "\n",
        "#df_filtered = resizeDataFrame(df_filtered, math.floor(len(df_filtered)/1000)*1000) #Shrink to nearest 1000.\n",
        "#print(\"df filtered length after shrink: \" + str(len(df_filtered)))"
      ],
      "execution_count": null,
      "outputs": [
        {
          "output_type": "stream",
          "text": [
            "Recipes before filtering: 124473\n",
            "Recipes after filtering:  91011\n"
          ],
          "name": "stdout"
        }
      ]
    },
    {
      "cell_type": "markdown",
      "metadata": {
        "id": "qURcQhtGjr5p"
      },
      "source": [
        "### 1.9 Resize dataset to be dividable by the BATCH_SIZE.\n",
        "This function is used since RNN (LSTM, GRU etc.) requires a fixed batch size. \n",
        "The batch size should be a proper division of the df size. Therefore we need to find a df size that can be perfectly divided into equal-sized batches."
      ]
    },
    {
      "cell_type": "code",
      "metadata": {
        "id": "HtRc8PJ-jr5p"
      },
      "source": [
        "BATCH_SIZE = 64\n",
        "\n",
        "def resizeDataFrame(df, batch_size):\n",
        "    print(\"Before shrinking: \" + str(len(df)))\n",
        "    for i in df:\n",
        "        if len(df) % batch_size == 0: \n",
        "            break\n",
        "        else:\n",
        "            df.remove(i)\n",
        "    print(\"After shrinking:  \"+ str(len(df)))\n",
        "    print(\"# batches of size \" + str(batch_size) + \": \" + str(int(len(df)/batch_size)))\n",
        "    return df"
      ],
      "execution_count": null,
      "outputs": []
    },
    {
      "cell_type": "code",
      "metadata": {
        "id": "WuvUkffijXUQ",
        "colab": {
          "base_uri": "https://localhost:8080/"
        },
        "outputId": "72d66770-c85a-46a4-ada2-6b65fa8a7692"
      },
      "source": [
        "df_filtered = resizeDataFrame(df_filtered, BATCH_SIZE) #Shrink to nearest 1000."
      ],
      "execution_count": null,
      "outputs": [
        {
          "output_type": "stream",
          "text": [
            "Before shrinking: 91011\n",
            "After shrinking:  91008\n",
            "# batches of size 64: 1422\n"
          ],
          "name": "stdout"
        }
      ]
    },
    {
      "cell_type": "code",
      "metadata": {
        "id": "qO47MhYd_KWt"
      },
      "source": [
        "import pickle\n",
        "with open(\"/content/drive/MyDrive/Colab files/df_filtered.txt\", \"wb\") as fp:   #Pickling\n",
        "     pickle.dump(df_filtered, fp)"
      ],
      "execution_count": null,
      "outputs": []
    },
    {
      "cell_type": "markdown",
      "metadata": {
        "id": "fdQiV3mzjr5p"
      },
      "source": [
        "REMOVE?? Run below to load df_filtered from previous session."
      ]
    },
    {
      "cell_type": "code",
      "metadata": {
        "id": "JFROrpRqjr5p",
        "colab": {
          "base_uri": "https://localhost:8080/",
          "height": 54
        },
        "outputId": "f2bc0cef-cf76-4774-b8df-68b8f9975746"
      },
      "source": [
        "'''import numpy as np\n",
        "import pandas as pd\n",
        "import pickle\n",
        "\n",
        "with open(\"/content/drive/MyDrive/Colab files/new_df.txt\", \"rb\") as fp:   # Unpickling\n",
        "       new_df = pickle.load(fp)'''"
      ],
      "execution_count": null,
      "outputs": [
        {
          "output_type": "execute_result",
          "data": {
            "application/vnd.google.colaboratory.intrinsic+json": {
              "type": "string"
            },
            "text/plain": [
              "'import numpy as np\\nimport pandas as pd\\nimport pickle\\n\\nwith open(\"/content/drive/MyDrive/Colab files/new_df.txt\", \"rb\") as fp:   # Unpickling\\n       new_df = pickle.load(fp)'"
            ]
          },
          "metadata": {
            "tags": []
          },
          "execution_count": 16
        }
      ]
    },
    {
      "cell_type": "markdown",
      "metadata": {
        "id": "UIHhKez1jr5q"
      },
      "source": [
        "#2.Tokenization"
      ]
    },
    {
      "cell_type": "code",
      "metadata": {
        "id": "YoYrOMp4jr5q",
        "colab": {
          "base_uri": "https://localhost:8080/"
        },
        "outputId": "3dbd3bc1-a3d7-4437-cba7-ed73a7b2be83"
      },
      "source": [
        "#Building an vocabulary\n",
        "import nltk\n",
        "import gensim\n",
        "from nltk.tokenize import word_tokenize\n",
        "nltk.download('punkt')\n",
        "\n",
        "df_tokenized = [word_tokenize(df_filtered[idx]) for idx, _ in enumerate(df_filtered)]"
      ],
      "execution_count": null,
      "outputs": [
        {
          "output_type": "stream",
          "text": [
            "[nltk_data] Downloading package punkt to /root/nltk_data...\n",
            "[nltk_data]   Package punkt is already up-to-date!\n"
          ],
          "name": "stdout"
        }
      ]
    },
    {
      "cell_type": "markdown",
      "metadata": {
        "id": "NeUs7VHJOrwj"
      },
      "source": [
        "#3.Vectorization"
      ]
    },
    {
      "cell_type": "markdown",
      "metadata": {
        "id": "_GOn8FwWjr5q"
      },
      "source": [
        "### 3.1 Training the gensim Word2Vec Model"
      ]
    },
    {
      "cell_type": "code",
      "metadata": {
        "id": "MybsIf3Qjr5q"
      },
      "source": [
        "model = gensim.models.Word2Vec(df_tokenized, min_count=1)\n",
        "model.wv.save('/content/drive/MyDrive/Colab files/model.bin')"
      ],
      "execution_count": null,
      "outputs": []
    },
    {
      "cell_type": "markdown",
      "metadata": {
        "id": "xQhZC323jr5r"
      },
      "source": [
        "### 3.1 Functions to translate vectorized recipes back to a uniform string formatting"
      ]
    },
    {
      "cell_type": "code",
      "metadata": {
        "id": "Ls9qWuxmjr5r"
      },
      "source": [
        "new_line = [\"•\", \"▪︎\"]\n",
        "headers = [\"Ingredients\", \"Instructions\"]\n",
        "punctuation = [\".\", \",\"]\n",
        "paranthesis = [\"(\", \")\"]\n",
        "    \n",
        "def word2idx(word):\n",
        "    return model.wv.vocab[word].index\n",
        "\n",
        "def idx2word(idx):\n",
        "    return model.wv.index2word[idx]\n",
        "\n",
        "def indices2sentences(sentence): #Converts a vectorized recipe back to a unifrom string formatting.\n",
        "    s = \"\"\n",
        "    prev_title = False\n",
        "    for idx in sentence:\n",
        "        if idx2word(idx) in headers:\n",
        "            s+= \"\\n\\n\" + str(idx2word(idx))\n",
        "        elif idx2word(idx) in new_line:\n",
        "            s+= \"\\n\" + str(idx2word(idx))\n",
        "        elif idx2word(idx) == \"Title\":\n",
        "            s+= \"\\n\" + str(idx2word(idx)) + \" \"\n",
        "            prev_title = True\n",
        "        else:\n",
        "            if idx2word(idx) not in punctuation and not prev_title:\n",
        "                s+= \" \" + str(idx2word(idx)) \n",
        "            else:\n",
        "                s+= str(idx2word(idx))\n",
        "                prev_title = False\n",
        "    s = re.sub(r'(\\s([?,.!\"]))|(?<=\\[|\\()(.*?)(?=\\)|\\])', lambda x: x.group().strip(), s)\n",
        "\n",
        "    return(s)"
      ],
      "execution_count": null,
      "outputs": []
    },
    {
      "cell_type": "markdown",
      "metadata": {
        "id": "Esos5qv-jr5r"
      },
      "source": [
        "### 3.3 Vectorize recipes"
      ]
    },
    {
      "cell_type": "code",
      "metadata": {
        "id": "TbxgRMrYjr5r"
      },
      "source": [
        "#Vectorizes each token in each recipe creating the new df_vec\n",
        "df_vec = []\n",
        "for recipe in df_tokenized:\n",
        "    current_recipe = []\n",
        "    for word in recipe:\n",
        "        current_recipe.append(word2idx(word))\n",
        "    df_vec.append(current_recipe)"
      ],
      "execution_count": null,
      "outputs": []
    },
    {
      "cell_type": "markdown",
      "metadata": {
        "id": "PYPxV4ugjr5r"
      },
      "source": [
        "### 3.4 Padding to vectorized recipes"
      ]
    },
    {
      "cell_type": "code",
      "metadata": {
        "id": "ttcUGGNEjr5r",
        "colab": {
          "base_uri": "https://localhost:8080/"
        },
        "outputId": "c8dc5f84-10fd-4edc-f36e-083a9ecdf2a7"
      },
      "source": [
        "import tensorflow as tf\n",
        "df_padded = tf.keras.preprocessing.sequence.pad_sequences(df_vec, padding=\"post\", maxlen=MAX_LENGTH+1)\n",
        "print(len(df_padded))"
      ],
      "execution_count": null,
      "outputs": [
        {
          "output_type": "stream",
          "text": [
            "91008\n"
          ],
          "name": "stdout"
        }
      ]
    },
    {
      "cell_type": "markdown",
      "metadata": {
        "id": "0Rtjli_-jr5r"
      },
      "source": [
        "#### 3.4.1 Test to see if padding and translation works"
      ]
    },
    {
      "cell_type": "code",
      "metadata": {
        "id": "qIXWPenEjr5r",
        "colab": {
          "base_uri": "https://localhost:8080/"
        },
        "outputId": "d71f8881-27ca-4262-9a79-b5a02786acca"
      },
      "source": [
        "print(indices2sentences(df_padded[5020]))\n",
        "print(\"\\n\")\n",
        "print(df_padded[5020])"
      ],
      "execution_count": null,
      "outputs": [
        {
          "output_type": "stream",
          "text": [
            "\n",
            "Title easy garlic-lemon scallops\n",
            "\n",
            "Ingredients\n",
            "• 3/4 cup butter\n",
            "• 3 tablespoons minced garlic\n",
            "• 2 pounds large sea scallops\n",
            "• 1 teaspoon salt\n",
            "• 1/8 teaspoon pepper\n",
            "• 2 tablespoons fresh lemon juice\n",
            "\n",
            "Instructions\n",
            "▪︎ melt butter in a large skillet over medium-high heat. stir in garlic, and cook for a few seconds until fragrant. add scallops, and cook for several minutes on one side, then turn over, and continue cooking until firm and opaque.\n",
            "▪︎ remove scallops to a platter, then whisk salt, pepper, and lemon juice into butter. pour sauce over scallops to serve.,,,,,,,,,,,,,,,,,,,,,,,,,,,,,,,,,,,,,,,,,,,,,,,,,,,,,,,,,,,,,,,,,,,,,,,,,,,,,,,,,,,,,,,,,,,,,,,,,,,,,,,,,,,,,,,,,,,,,,,,,,,,,,,,,,,,,,,,,,,,,,,,,,,,,,,,,,,,,,,,,,,,,,,,,,,,,,,,,,,,,,,,,,,,,,,,\n",
            "\n",
            "\n",
            "[  27  933 8524  759   28    1  107   11   38    1   36   25  130   46\n",
            "    1   12  223   33  476  759    1    5   20   17    1  403   20   18\n",
            "    1   12   25   55   73   64   29    8  273   38    9    7   33   77\n",
            "   30  198   21    2   42    9   46    0    3   43   23    7  445  422\n",
            "   13  738    2   22  759    0    3   43   23  803   15   39  256  151\n",
            "    0   78  274   30    0    3  317  180   13  398    3 1111    2    8\n",
            "   69  759    6    7  417    0   78  123   17    0   18    0    3   73\n",
            "   64   19   38    2   89   49   30  759    6   70    2    0    0    0\n",
            "    0    0    0    0    0    0    0    0    0    0    0    0    0    0\n",
            "    0    0    0    0    0    0    0    0    0    0    0    0    0    0\n",
            "    0    0    0    0    0    0    0    0    0    0    0    0    0    0\n",
            "    0    0    0    0    0    0    0    0    0    0    0    0    0    0\n",
            "    0    0    0    0    0    0    0    0    0    0    0    0    0    0\n",
            "    0    0    0    0    0    0    0    0    0    0    0    0    0    0\n",
            "    0    0    0    0    0    0    0    0    0    0    0    0    0    0\n",
            "    0    0    0    0    0    0    0    0    0    0    0    0    0    0\n",
            "    0    0    0    0    0    0    0    0    0    0    0    0    0    0\n",
            "    0    0    0    0    0    0    0    0    0    0    0    0    0    0\n",
            "    0    0    0    0    0    0    0    0    0    0    0    0    0    0\n",
            "    0    0    0    0    0    0    0    0    0    0    0    0    0    0\n",
            "    0    0    0    0    0    0    0    0    0    0    0    0    0    0\n",
            "    0    0    0    0    0    0    0]\n"
          ],
          "name": "stdout"
        }
      ]
    },
    {
      "cell_type": "markdown",
      "metadata": {
        "id": "VUTWNiZYQBus"
      },
      "source": [
        "# 4.Prepare data for training\n"
      ]
    },
    {
      "cell_type": "markdown",
      "metadata": {
        "id": "0bON2NgSQ_tr"
      },
      "source": [
        "### 4.1 CHECK THIS! Creates a dataset with one element for each row in the input tensor."
      ]
    },
    {
      "cell_type": "code",
      "metadata": {
        "id": "oR46l0YEjr5s",
        "colab": {
          "base_uri": "https://localhost:8080/"
        },
        "outputId": "5294fe07-aca2-4197-fa1a-85a9f3e1df82"
      },
      "source": [
        "dataset = tf.data.Dataset.from_tensor_slices(df_padded)\n",
        "print(dataset)"
      ],
      "execution_count": null,
      "outputs": [
        {
          "output_type": "stream",
          "text": [
            "<TensorSliceDataset shapes: (301,), types: tf.int32>\n"
          ],
          "name": "stdout"
        }
      ]
    },
    {
      "cell_type": "markdown",
      "metadata": {
        "id": "EGHNaEK8jr5s"
      },
      "source": [
        "### 4.2 Define variables for training"
      ]
    },
    {
      "cell_type": "code",
      "metadata": {
        "id": "KlodPBdxjr5s",
        "colab": {
          "base_uri": "https://localhost:8080/"
        },
        "outputId": "97256d4d-82e5-447d-9285-3a5ebe3cc9fe"
      },
      "source": [
        "#model2 = gensim.models.KeyedVectors.load(\"model.bin\")\n",
        "BATCH_SIZE = 64 #Takes 64 recipes per batch\n",
        "BUFFER_SIZE = 1000\n",
        "vocab_size = len(model.wv.vocab) + 1 #1 added since the indexing of arrays is zero-offset.\n",
        "print(\"Vocabylary size: \" + str(vocab_size))\n",
        "embedding_dim = 256\n",
        "rnn_units = 512"
      ],
      "execution_count": null,
      "outputs": [
        {
          "output_type": "stream",
          "text": [
            "Vocabylary size: 44288\n"
          ],
          "name": "stdout"
        },
        {
          "output_type": "stream",
          "text": [
            "/usr/local/lib/python3.7/dist-packages/ipykernel_launcher.py:4: DeprecationWarning: Call to deprecated `wv` (Attribute will be removed in 4.0.0, use self instead).\n",
            "  after removing the cwd from sys.path.\n"
          ],
          "name": "stderr"
        }
      ]
    },
    {
      "cell_type": "markdown",
      "metadata": {
        "id": "AiAJhWmPRyzo"
      },
      "source": [
        "### 4.3 Define input and target recipes"
      ]
    },
    {
      "cell_type": "code",
      "metadata": {
        "id": "q7L4aApgjr5s",
        "colab": {
          "base_uri": "https://localhost:8080/"
        },
        "outputId": "02a2705a-7e72-4355-c235-1745c2518c09"
      },
      "source": [
        "#REWRITE THIS!\n",
        "#RETURNS 299 instead of 300. Do I need to add +1 to previous padding?\n",
        "def inputTarget(recipe):\n",
        "    input_recipe = recipe[:-1]\n",
        "    target_recipe = recipe[1:]\n",
        "    print(len(input_recipe))\n",
        "    return input_recipe, target_recipe\n",
        "    \n",
        "df_target = dataset.map(inputTarget)\n",
        "print(df_target)"
      ],
      "execution_count": null,
      "outputs": [
        {
          "output_type": "stream",
          "text": [
            "300\n",
            "<MapDataset shapes: ((300,), (300,)), types: (tf.int32, tf.int32)>\n"
          ],
          "name": "stdout"
        }
      ]
    },
    {
      "cell_type": "markdown",
      "metadata": {
        "id": "ylK_Z1qjjr5t"
      },
      "source": [
        "### 4.4 Shuffle and split dataset to batches\n",
        "This will be our training dataset"
      ]
    },
    {
      "cell_type": "code",
      "metadata": {
        "id": "T8_awsZrjr5t",
        "colab": {
          "base_uri": "https://localhost:8080/"
        },
        "outputId": "3f20595b-554b-49a0-e76d-1d23015a561b"
      },
      "source": [
        "#Splitting dataset to batches\n",
        "df_train = df_target.shuffle(BUFFER_SIZE).batch(BATCH_SIZE, drop_remainder=True).repeat()\n",
        "print(type(df_train))"
      ],
      "execution_count": null,
      "outputs": [
        {
          "output_type": "stream",
          "text": [
            "<class 'tensorflow.python.data.ops.dataset_ops.RepeatDataset'>\n"
          ],
          "name": "stdout"
        }
      ]
    },
    {
      "cell_type": "markdown",
      "metadata": {
        "id": "WAZ_gAW0jr5t"
      },
      "source": [
        "### 4.5 Build the model"
      ]
    },
    {
      "cell_type": "code",
      "metadata": {
        "id": "bHqacxMCjr5t"
      },
      "source": [
        "import tensorflow as tf\n",
        "#Function from https://www.tensorflow.org/tutorials/text/text_generation\n",
        "def build_model(vocab_size, embedding_dim, rnn_units, batch_size):\n",
        "    model = tf.keras.Sequential([\n",
        "        tf.keras.layers.Embedding(vocab_size, embedding_dim, mask_zero=True,\n",
        "                                  batch_input_shape=[batch_size, None]),\n",
        "        tf.keras.layers.GRU(rnn_units,\n",
        "                            return_sequences=True,\n",
        "                            stateful=True),\n",
        "        tf.keras.layers.Dense(vocab_size) #Lägg tilll activation=\"softmax\"? Ensures outputs have the characteristics of normalized probabilities.\n",
        "    ])\n",
        "    return model\n",
        "\n",
        "gru_model = build_model(vocab_size=vocab_size, embedding_dim=embedding_dim, rnn_units=rnn_units, batch_size=BATCH_SIZE)"
      ],
      "execution_count": null,
      "outputs": []
    },
    {
      "cell_type": "code",
      "metadata": {
        "id": "mbQnGvhKjr5t",
        "colab": {
          "base_uri": "https://localhost:8080/"
        },
        "outputId": "53f18afd-ac9c-42ea-9c2a-da01ea954736"
      },
      "source": [
        "gru_model.summary()"
      ],
      "execution_count": null,
      "outputs": [
        {
          "output_type": "stream",
          "text": [
            "Model: \"sequential\"\n",
            "_________________________________________________________________\n",
            "Layer (type)                 Output Shape              Param #   \n",
            "=================================================================\n",
            "embedding (Embedding)        (64, None, 256)           11337728  \n",
            "_________________________________________________________________\n",
            "gru (GRU)                    (64, None, 512)           1182720   \n",
            "_________________________________________________________________\n",
            "dense (Dense)                (64, None, 44288)         22719744  \n",
            "=================================================================\n",
            "Total params: 35,240,192\n",
            "Trainable params: 35,240,192\n",
            "Non-trainable params: 0\n",
            "_________________________________________________________________\n"
          ],
          "name": "stdout"
        }
      ]
    },
    {
      "cell_type": "markdown",
      "metadata": {
        "id": "CAsZzVpajr5u"
      },
      "source": [
        "### 4.6 Define loss function and Optomizer algorithm"
      ]
    },
    {
      "cell_type": "code",
      "metadata": {
        "id": "IImgQWLijr5u"
      },
      "source": [
        "import tensorflow as tf\n",
        "def loss(labels, logits):\n",
        "    entropy = tf.keras.losses.sparse_categorical_crossentropy(y_true=labels, y_pred=logits, from_logits=True)\n",
        "    return entropy\n",
        "\n",
        "adam_optimizer = tf.keras.optimizers.Adam(learning_rate=0.001)"
      ],
      "execution_count": null,
      "outputs": []
    },
    {
      "cell_type": "markdown",
      "metadata": {
        "id": "FoPuufQfjr5u"
      },
      "source": [
        "### 4.7 Compiling the model"
      ]
    },
    {
      "cell_type": "code",
      "metadata": {
        "id": "dG0YowUtjr5u"
      },
      "source": [
        "gru_model.compile(optimizer=adam_optimizer, loss=loss, metrics=['accuracy'])\n",
        "gru_model.save('/content/drive/MyDrive/Colab files/recipe_model_pre_fit.h5')"
      ],
      "execution_count": null,
      "outputs": []
    },
    {
      "cell_type": "markdown",
      "metadata": {
        "id": "NckUsEqDjr5u"
      },
      "source": [
        "### 4.8 Defining early stopping to avoid overfitting."
      ]
    },
    {
      "cell_type": "code",
      "metadata": {
        "id": "FxyUv-YWjr5u"
      },
      "source": [
        "early_stopping_callback = tf.keras.callbacks.EarlyStopping(\n",
        "    patience=5,\n",
        "    monitor='loss',\n",
        "    restore_best_weights=True,\n",
        "    verbose=1)"
      ],
      "execution_count": null,
      "outputs": []
    },
    {
      "cell_type": "markdown",
      "metadata": {
        "id": "jggx4DRsjr5v"
      },
      "source": [
        "### 4.9 Create checkpoints to save the latest trained model after each epoch."
      ]
    },
    {
      "cell_type": "code",
      "metadata": {
        "id": "P8MbpHxzjr5v",
        "colab": {
          "base_uri": "https://localhost:8080/",
          "height": 244
        },
        "outputId": "80fb9b14-6d9c-40e1-87ac-7b1cf20548ce"
      },
      "source": [
        "import os\n",
        "# Create a checkpoints directory.\n",
        "\n",
        "checkpoint_dir = '/content/drive/MyDrive/Colab files/tmp/checkpoints'\n",
        "os.makedirs(checkpoint_dir, exist_ok=True)\n",
        "\n",
        "checkpoint_prefix = os.path.join(checkpoint_dir, 'model_{epoch}')\n",
        "checkpoint_callback=tf.keras.callbacks.ModelCheckpoint(\n",
        "    filepath=checkpoint_prefix,\n",
        "    save_weights_only=True)"
      ],
      "execution_count": null,
      "outputs": [
        {
          "output_type": "error",
          "ename": "NameError",
          "evalue": "ignored",
          "traceback": [
            "\u001b[0;31m---------------------------------------------------------------------------\u001b[0m",
            "\u001b[0;31mNameError\u001b[0m                                 Traceback (most recent call last)",
            "\u001b[0;32m<ipython-input-10-93e5c54dd91c>\u001b[0m in \u001b[0;36m<module>\u001b[0;34m()\u001b[0m\n\u001b[1;32m      6\u001b[0m \u001b[0;34m\u001b[0m\u001b[0m\n\u001b[1;32m      7\u001b[0m \u001b[0mcheckpoint_prefix\u001b[0m \u001b[0;34m=\u001b[0m \u001b[0mos\u001b[0m\u001b[0;34m.\u001b[0m\u001b[0mpath\u001b[0m\u001b[0;34m.\u001b[0m\u001b[0mjoin\u001b[0m\u001b[0;34m(\u001b[0m\u001b[0mcheckpoint_dir\u001b[0m\u001b[0;34m,\u001b[0m \u001b[0;34m'model_{epoch}'\u001b[0m\u001b[0;34m)\u001b[0m\u001b[0;34m\u001b[0m\u001b[0;34m\u001b[0m\u001b[0m\n\u001b[0;32m----> 8\u001b[0;31m checkpoint_callback=tf.keras.callbacks.ModelCheckpoint(\n\u001b[0m\u001b[1;32m      9\u001b[0m     \u001b[0mfilepath\u001b[0m\u001b[0;34m=\u001b[0m\u001b[0mcheckpoint_prefix\u001b[0m\u001b[0;34m,\u001b[0m\u001b[0;34m\u001b[0m\u001b[0;34m\u001b[0m\u001b[0m\n\u001b[1;32m     10\u001b[0m     save_weights_only=True)\n",
            "\u001b[0;31mNameError\u001b[0m: name 'tf' is not defined"
          ]
        }
      ]
    },
    {
      "cell_type": "markdown",
      "metadata": {
        "id": "GLcCpUAOjr5u"
      },
      "source": [
        "#### Define fitting variables"
      ]
    },
    {
      "cell_type": "code",
      "metadata": {
        "id": "FOiwcYqejr5v",
        "colab": {
          "base_uri": "https://localhost:8080/"
        },
        "outputId": "e9b424bd-8b57-4629-e7b4-3af495d0612e"
      },
      "source": [
        "EPOCHS = 30\n",
        "INITIAL_EPOCH = 17 #Change if loading from checkpoint and last successful epoch. \n",
        "STEPS_PER_EPOCH = len(df_padded)/BATCH_SIZE#Batch_size*steps = number of recipes per epoch. Should a value where batch_size*step = len(total_samples)\n",
        "\n",
        "#Load below if interrupted to proceed from defined initial_epoch.\n",
        "#gru_model.load_weights(tf.train.latest_checkpoint(checkpoint_dir))"
      ],
      "execution_count": null,
      "outputs": [
        {
          "output_type": "execute_result",
          "data": {
            "text/plain": [
              "<tensorflow.python.training.tracking.util.CheckpointLoadStatus at 0x7fc823f0dc18>"
            ]
          },
          "metadata": {
            "tags": []
          },
          "execution_count": 51
        }
      ]
    },
    {
      "cell_type": "markdown",
      "metadata": {
        "id": "__xFOE4Ljr5v"
      },
      "source": [
        "Checks that gpu is used."
      ]
    },
    {
      "cell_type": "code",
      "metadata": {
        "id": "dCBT49O9E2aN",
        "colab": {
          "base_uri": "https://localhost:8080/",
          "height": 35
        },
        "outputId": "deb8d18f-cd90-4745-f3be-bc7cc9eabf69"
      },
      "source": [
        "import tensorflow as tf\n",
        "tf.test.gpu_device_name()"
      ],
      "execution_count": null,
      "outputs": [
        {
          "output_type": "execute_result",
          "data": {
            "application/vnd.google.colaboratory.intrinsic+json": {
              "type": "string"
            },
            "text/plain": [
              "'/device:GPU:0'"
            ]
          },
          "metadata": {
            "tags": []
          },
          "execution_count": 34
        }
      ]
    },
    {
      "cell_type": "code",
      "metadata": {
        "id": "MHsZtMvW_VYR"
      },
      "source": [
        "for input, target in df_train.take(1):\n",
        "    predictions = model(input)\n",
        "    print(predictions.shape, \"# (batch_size, sequence_length, vocab_size)\")"
      ],
      "execution_count": null,
      "outputs": []
    },
    {
      "cell_type": "markdown",
      "metadata": {
        "id": "R-g8eJfKTSWp"
      },
      "source": [
        "# 5.Fit the model"
      ]
    },
    {
      "cell_type": "code",
      "metadata": {
        "id": "w7bqD9q2jr5v",
        "colab": {
          "base_uri": "https://localhost:8080/"
        },
        "outputId": "b2ceadbe-a3f6-407a-f11f-792fd87288ef"
      },
      "source": [
        "history = gru_model.fit(\n",
        "    x=df_train,\n",
        "    epochs=EPOCHS,\n",
        "    steps_per_epoch=STEPS_PER_EPOCH,\n",
        "    initial_epoch=INITIAL_EPOCH,\n",
        "    callbacks=[\n",
        "        checkpoint_callback,\n",
        "        early_stopping_callback\n",
        "    ]\n",
        ")\n",
        "\n",
        "# Saving the trained model to file (to be able to re-use it later).\n",
        "model_name = '/content/drive/MyDrive/Colab files/recipe_model.h5'\n",
        "gru_model.save(model_name, save_format='h5')"
      ],
      "execution_count": null,
      "outputs": [
        {
          "output_type": "stream",
          "text": [
            "Epoch 18/30\n",
            "1422/1422 [==============================] - 1926s 1s/step - loss: 1.0249 - accuracy: 0.5782\n",
            "Epoch 19/30\n",
            "1422/1422 [==============================] - 1925s 1s/step - loss: 1.0171 - accuracy: 0.5804\n",
            "Epoch 20/30\n",
            "1422/1422 [==============================] - 1924s 1s/step - loss: 1.0098 - accuracy: 0.5825\n",
            "Epoch 21/30\n",
            "1422/1422 [==============================] - 1922s 1s/step - loss: 1.0032 - accuracy: 0.5845\n",
            "Epoch 22/30\n",
            "1422/1422 [==============================] - 1923s 1s/step - loss: 0.9971 - accuracy: 0.5864\n",
            "Epoch 23/30\n",
            "1422/1422 [==============================] - 1919s 1s/step - loss: 0.9913 - accuracy: 0.5881\n",
            "Epoch 24/30\n",
            "1422/1422 [==============================] - 1918s 1s/step - loss: 0.9859 - accuracy: 0.5898\n",
            "Epoch 25/30\n",
            "1422/1422 [==============================] - 1919s 1s/step - loss: 0.9809 - accuracy: 0.5913\n",
            "Epoch 26/30\n",
            "1422/1422 [==============================] - 1918s 1s/step - loss: 0.9763 - accuracy: 0.5927\n",
            "Epoch 27/30\n",
            "1422/1422 [==============================] - 1919s 1s/step - loss: 0.9719 - accuracy: 0.5940\n",
            "Epoch 28/30\n",
            "1422/1422 [==============================] - 1919s 1s/step - loss: 0.9678 - accuracy: 0.5954\n",
            "Epoch 29/30\n",
            "1422/1422 [==============================] - 1920s 1s/step - loss: 0.9640 - accuracy: 0.5965\n",
            "Epoch 30/30\n",
            "1422/1422 [==============================] - 1915s 1s/step - loss: 0.9603 - accuracy: 0.5977\n"
          ],
          "name": "stdout"
        }
      ]
    },
    {
      "cell_type": "markdown",
      "metadata": {
        "id": "cbEpt9FSqq_D"
      },
      "source": [
        "### 5.1 Loss plot"
      ]
    },
    {
      "cell_type": "code",
      "metadata": {
        "id": "qKfJGVdxjr5v",
        "colab": {
          "base_uri": "https://localhost:8080/",
          "height": 295
        },
        "outputId": "97bd6bd3-4d00-4cf0-b212-bab57953e038"
      },
      "source": [
        "def render_training_history(training_history):\n",
        "    loss = training_history.history['loss']\n",
        "\n",
        "    plt.title('Loss')\n",
        "    plt.xlabel('Epoch')\n",
        "    plt.ylabel('Loss')\n",
        "    plt.plot(loss, label='Training set')\n",
        "    plt.legend()\n",
        "    plt.grid(linestyle='--', linewidth=1, alpha=0.5)\n",
        "    plt.show()\n",
        "\n",
        "render_training_history(history)"
      ],
      "execution_count": null,
      "outputs": [
        {
          "output_type": "display_data",
          "data": {
            "image/png": "[encoded data removed]",
            "text/plain": [
              "<Figure size 432x288 with 1 Axes>"
            ]
          },
          "metadata": {
            "tags": [],
            "needs_background": "light"
          }
        }
      ]
    },
    {
      "cell_type": "code",
      "metadata": {
        "id": "J4xjOtcs5Xaz",
        "colab": {
          "base_uri": "https://localhost:8080/"
        },
        "outputId": "78fa1048-943c-4e77-c28b-978aeb9a4f4a"
      },
      "source": [
        "from keras.models import load_model\n",
        "import gensim\n",
        "import tensorflow as tf\n",
        "\n",
        "gru_model = load_model('/content/drive/MyDrive/Colab files/recipe_generation_rnn_raw_long_1size.h5', compile=False)\n",
        "model = gensim.models.KeyedVectors.load(\"/content/drive/MyDrive/Colab files/model.bin\")\n",
        "\n",
        "#New values\n",
        "pred_batch_size = 1\n",
        "vocab_size = len(model.vocab) + 1 #1 added since the indexing of arrays is zero-offset.\n",
        "embedding_dim = 256\n",
        "rnn_units = 512\n",
        "\n",
        "#Load weigths from full model.\n",
        "old_weights = gru_model.get_weights()\n",
        "\n",
        "model_prediction = build_model(vocab_size, embedding_dim, rnn_units, pred_batch_size)\n",
        "\n",
        "#If model successfully train load weights from model.\n",
        "#model_prediction.set_weights(old_weights)\n",
        "\n",
        "#If training interrupted. Load weights from checkpoint.\n",
        "#model_prediction.load_weights(tf.train.latest_checkpoint(checkpoint_dir))\n",
        "\n",
        "model_prediction.build(tf.TensorShape([pred_batch_size, None]))\n",
        "\n",
        "model_prediction.save('/content/drive/MyDrive/Colab files/model_prediction.h5', save_format='h5')\n",
        "model_prediction.summary()"
      ],
      "execution_count": null,
      "outputs": [
        {
          "output_type": "stream",
          "text": [
            "Model: \"sequential_2\"\n",
            "_________________________________________________________________\n",
            "Layer (type)                 Output Shape              Param #   \n",
            "=================================================================\n",
            "embedding_2 (Embedding)      (1, None, 256)            11337728  \n",
            "_________________________________________________________________\n",
            "gru_2 (GRU)                  (1, None, 512)            1182720   \n",
            "_________________________________________________________________\n",
            "dense_2 (Dense)              (1, None, 44288)          22719744  \n",
            "=================================================================\n",
            "Total params: 35,240,192\n",
            "Trainable params: 35,240,192\n",
            "Non-trainable params: 0\n",
            "_________________________________________________________________\n"
          ],
          "name": "stdout"
        }
      ]
    },
    {
      "cell_type": "markdown",
      "metadata": {
        "id": "41v6TpVlgCkS"
      },
      "source": [
        "##Run recipe_generator_run to genererate and evaluate the recipes"
      ]
    }
  ]
}