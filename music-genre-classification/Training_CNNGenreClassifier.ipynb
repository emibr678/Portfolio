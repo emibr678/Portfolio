{
  "nbformat": 4,
  "nbformat_minor": 0,
  "metadata": {
    "colab": {
      "name": "Training_CNNGenreClassifier.ipynb",
      "provenance": [],
      "collapsed_sections": [
        "getNDBPQ20cI"
      ]
    },
    "kernelspec": {
      "name": "python3",
      "display_name": "Python 3"
    },
    "language_info": {
      "name": "python"
    },
    "accelerator": "GPU"
  },
  "cells": [
    {
      "cell_type": "code",
      "metadata": {
        "id": "fZmhg6Bo86pU",
        "colab": {
          "base_uri": "https://localhost:8080/"
        },
        "outputId": "2c4fc5cd-f10f-47cf-b0b8-ff1744ad9a9d"
      },
      "source": [
        "from google.colab import drive\n",
        "drive.mount('/content/drive')"
      ],
      "execution_count": null,
      "outputs": [
        {
          "output_type": "stream",
          "name": "stdout",
          "text": [
            "Mounted at /content/drive\n"
          ]
        }
      ]
    },
    {
      "cell_type": "markdown",
      "metadata": {
        "id": "XRVyGgxPfgG9"
      },
      "source": [
        "#**Warning:** \n",
        "Changing factory_reset to True will remove all generated spectograms."
      ]
    },
    {
      "cell_type": "code",
      "metadata": {
        "id": "zbJ9_pBTfZg3"
      },
      "source": [
        "factory_reset = False"
      ],
      "execution_count": null,
      "outputs": []
    },
    {
      "cell_type": "markdown",
      "metadata": {
        "id": "EX9X9tMRCPUf"
      },
      "source": [
        "#Step-1: Let's import all the required libraries"
      ]
    },
    {
      "cell_type": "code",
      "metadata": {
        "id": "0cHi-EaM7bLv"
      },
      "source": [
        "import tensorflow as tf\n",
        "import numpy as np\n",
        "import scipy\n",
        "from scipy import misc\n",
        "import glob\n",
        "from PIL import Image\n",
        "import os\n",
        "import matplotlib.pyplot as plt\n",
        "import librosa\n",
        "from keras import layers\n",
        "from keras.layers import (Input, Add, Dense, Activation, ZeroPadding2D, BatchNormalization, Flatten, \n",
        "                          Conv2D, AveragePooling2D, MaxPooling2D, GlobalMaxPooling2D, Dropout)\n",
        "from keras.models import Model, load_model\n",
        "from keras.preprocessing import image\n",
        "from keras.utils import layer_utils\n",
        "import pydot\n",
        "from IPython.display import SVG\n",
        "from keras.utils.vis_utils import model_to_dot\n",
        "from tensorflow.keras.utils import plot_model\n",
        "from tensorflow.keras.optimizers import Adam\n",
        "from keras.initializers import glorot_uniform\n",
        "from matplotlib.backends.backend_agg import FigureCanvasAgg as FigureCanvas\n",
        "import shutil\n",
        "from keras.preprocessing.image import ImageDataGenerator\n",
        "import random"
      ],
      "execution_count": null,
      "outputs": []
    },
    {
      "cell_type": "markdown",
      "metadata": {
        "id": "reP7ahzVg-hy"
      },
      "source": [
        "##Creating the genre list"
      ]
    },
    {
      "cell_type": "code",
      "metadata": {
        "id": "vMyR9Deyi8nY"
      },
      "source": [
        "genres = 'blues classical country disco pop hiphop metal reggae rock'\n",
        "genres = genres.split()"
      ],
      "execution_count": null,
      "outputs": []
    },
    {
      "cell_type": "markdown",
      "metadata": {
        "id": "_0iznEg5CMZK"
      },
      "source": [
        "#Step-2: Make empty directories for each genre."
      ]
    },
    {
      "cell_type": "code",
      "metadata": {
        "id": "t8DDyWbHCJqv"
      },
      "source": [
        "if factory_reset:\n",
        "  os.makedirs('/content/drive/MyDrive/Courses/TDDE19/Kod/Grupp 2/spectrograms3sec')\n",
        "  os.makedirs('/content/drive/MyDrive/Courses/TDDE19/Kod/Grupp 2/spectrograms3sec/train')\n",
        "  os.makedirs('/content/drive/MyDrive/Courses/TDDE19/Kod/Grupp 2/spectrograms3sec/test')\n",
        "\n",
        "  genres = 'blues classical country disco pop hiphop metal reggae rock'\n",
        "  genres = genres.split()\n",
        "  for g in genres:\n",
        "    path_audio = os.path.join('/content/drive/MyDrive/Courses/TDDE19/Kod/Grupp 2/audio3sec',f'{g}')\n",
        "    os.makedirs(path_audio)\n",
        "    path_train = os.path.join('/content/drive/MyDrive/Courses/TDDE19/Kod/Grupp 2/spectrograms3sec/train',f'{g}')\n",
        "    path_test = os.path.join('/content/drive/MyDrive/Courses/TDDE19/Kod/Grupp 2/spectrograms3sec/test',f'{g}')\n",
        "    os. makedirs(path_train)\n",
        "    os. makedirs(path_test) "
      ],
      "execution_count": null,
      "outputs": []
    },
    {
      "cell_type": "markdown",
      "metadata": {
        "id": "moRtO3WACemg"
      },
      "source": [
        "#Step-3: Split audio files into 3s parts into its corresponding genre."
      ]
    },
    {
      "cell_type": "code",
      "metadata": {
        "id": "Pa7wz_dtsTmP",
        "colab": {
          "base_uri": "https://localhost:8080/"
        },
        "outputId": "8e454880-0458-48c5-cbe8-c51dd55d466d"
      },
      "source": [
        "!pip3 install pydub\n",
        "from pydub import AudioSegment\n",
        "\n",
        "if factory_reset:\n",
        "  i = 0\n",
        "  for g in genres:\n",
        "    j=0\n",
        "    print(f\"{g}\")\n",
        "    for filename in os.listdir(os.path.join('/content/drive/MyDrive/Courses/TDDE19/Filer/GTZAN/genres_original',f\"{g}\")):\n",
        "\n",
        "      song  =  os.path.join(f'/content/drive/MyDrive/Courses/TDDE19/Filer/GTZAN/genres_original/{g}',f'{filename}')\n",
        "      j = j+1\n",
        "      for w in range(0,10):\n",
        "        i = i+1\n",
        "        #print(i)\n",
        "        t1 = 3*(w)*1000\n",
        "        t2 = 3*(w+1)*1000\n",
        "        newAudio = AudioSegment.from_wav(song)\n",
        "        new = newAudio[t1:t2]\n",
        "        new.export(f'/content/drive/MyDrive/Courses/TDDE19/Kod/Grupp 2/audio3sec/{g}/{g+str(j)+str(w)}.wav', format=\"wav\")"
      ],
      "execution_count": null,
      "outputs": [
        {
          "output_type": "stream",
          "name": "stdout",
          "text": [
            "Collecting pydub\n",
            "  Downloading pydub-0.25.1-py2.py3-none-any.whl (32 kB)\n",
            "Installing collected packages: pydub\n",
            "Successfully installed pydub-0.25.1\n"
          ]
        }
      ]
    },
    {
      "cell_type": "markdown",
      "metadata": {
        "id": "8m56F1gECmSA"
      },
      "source": [
        "#Step-4: Create mel spectrograms using librosa"
      ]
    },
    {
      "cell_type": "markdown",
      "metadata": {
        "id": "S6fUfIB3tzTZ"
      },
      "source": [
        "##**(Optional)** - Manually set the finishedGenre parameters\n",
        "- *finishedGenre* is used as a checkpoint in case the spectogram generation in **part 4.2** was interrupted.\n",
        "- **NOTE:** Do this only if necessary"
      ]
    },
    {
      "cell_type": "code",
      "metadata": {
        "id": "DHSkmXl1gH_b"
      },
      "source": [
        "# Should be set to false by default.\n",
        "manual_settings = False"
      ],
      "execution_count": null,
      "outputs": []
    },
    {
      "cell_type": "code",
      "metadata": {
        "id": "ydfqUi8rtnea"
      },
      "source": [
        "if manual_settings:\n",
        "  finishedGenre = {'blues': 1000,\n",
        "  'classical': 792,\n",
        "  'country': 0,\n",
        "  'disco': 0,\n",
        "  'hiphop': 0,\n",
        "  'metal': 0,\n",
        "  'pop': 0,\n",
        "  'reggae': 0,\n",
        "  'rock': 0}\n",
        "\n",
        "  with open('/content/drive/MyDrive/Courses/TDDE19/Kod/Grupp 2/checkpoint_spectogram_gen.pkl', 'wb') as f:\n",
        "      pickle.dump(finishedGenre, f)"
      ],
      "execution_count": null,
      "outputs": []
    },
    {
      "cell_type": "markdown",
      "metadata": {
        "id": "KbWdg5vejp6H"
      },
      "source": [
        "##4.1 Load latest checkpoint"
      ]
    },
    {
      "cell_type": "code",
      "metadata": {
        "colab": {
          "base_uri": "https://localhost:8080/",
          "height": 231
        },
        "id": "8-RsYLEpjppS",
        "outputId": "6c684766-2fa1-4cf8-c5a2-331b07509c39"
      },
      "source": [
        "import pickle\n",
        "\n",
        "with open('/content/drive/MyDrive/Courses/TDDE19/Kod/Grupp 2/checkpoint_spectogram_gen.pkl', 'rb') as f:\n",
        "   finishedGenre = pickle.load(f) \n",
        "\n",
        "print(\"Current progress spectogram generation:\")\n",
        "finishedGenre\n"
      ],
      "execution_count": null,
      "outputs": [
        {
          "output_type": "error",
          "ename": "FileNotFoundError",
          "evalue": "ignored",
          "traceback": [
            "\u001b[0;31m---------------------------------------------------------------------------\u001b[0m",
            "\u001b[0;31mFileNotFoundError\u001b[0m                         Traceback (most recent call last)",
            "\u001b[0;32m<ipython-input-9-ef12da4ca1b9>\u001b[0m in \u001b[0;36m<module>\u001b[0;34m()\u001b[0m\n\u001b[1;32m      1\u001b[0m \u001b[0;32mimport\u001b[0m \u001b[0mpickle\u001b[0m\u001b[0;34m\u001b[0m\u001b[0;34m\u001b[0m\u001b[0m\n\u001b[1;32m      2\u001b[0m \u001b[0;34m\u001b[0m\u001b[0m\n\u001b[0;32m----> 3\u001b[0;31m \u001b[0;32mwith\u001b[0m \u001b[0mopen\u001b[0m\u001b[0;34m(\u001b[0m\u001b[0;34m'/content/drive/MyDrive/Courses/TDDE19/Kod/Grupp 2/checkpoint_spectogram_gen.pkl'\u001b[0m\u001b[0;34m,\u001b[0m \u001b[0;34m'rb'\u001b[0m\u001b[0;34m)\u001b[0m \u001b[0;32mas\u001b[0m \u001b[0mf\u001b[0m\u001b[0;34m:\u001b[0m\u001b[0;34m\u001b[0m\u001b[0;34m\u001b[0m\u001b[0m\n\u001b[0m\u001b[1;32m      4\u001b[0m    \u001b[0mfinishedGenre\u001b[0m \u001b[0;34m=\u001b[0m \u001b[0mpickle\u001b[0m\u001b[0;34m.\u001b[0m\u001b[0mload\u001b[0m\u001b[0;34m(\u001b[0m\u001b[0mf\u001b[0m\u001b[0;34m)\u001b[0m\u001b[0;34m\u001b[0m\u001b[0;34m\u001b[0m\u001b[0m\n\u001b[1;32m      5\u001b[0m \u001b[0;34m\u001b[0m\u001b[0m\n",
            "\u001b[0;31mFileNotFoundError\u001b[0m: [Errno 2] No such file or directory: '/content/drive/MyDrive/Courses/TDDE19/Kod/Grupp 2/checkpoint_spectogram_gen.pkl'"
          ]
        }
      ]
    },
    {
      "cell_type": "markdown",
      "metadata": {
        "id": "TklbG5NRxdIk"
      },
      "source": [
        "##4.2 Generate the actual Mel Spectograms\n",
        "  - If interrupted, it will use the finishedGenre checkpoint and resume where   \n",
        "    it last left of. \\\\\n",
        "**Note:** Currently saving spectograms in the \"test\" folder by mistake, but will  be manually moved to the **\"train?\"** folder."
      ]
    },
    {
      "cell_type": "code",
      "metadata": {
        "id": "6o7dozY9thSm"
      },
      "source": [
        "new_run = False\n",
        "\n",
        "if new_run:\n",
        "  for g in genres:\n",
        "    j = 0\n",
        "    if finishedGenre[g] < 1000: #Check if all spectograms for that genre is not already generated.\n",
        "      for filename in os.listdir(os.path.join('/content/drive/MyDrive/Courses/TDDE19/Kod/Grupp 2/audio3sec',f\"{g}\")):\n",
        "        \n",
        "        #Checks the finishedGenre dictionary and ignores already generated spectograms for the given genre.\n",
        "        if j < finishedGenre[g]:\n",
        "          j += 1\n",
        "          continue\n",
        "\n",
        "        song  =  os.path.join(f'/content/drive/MyDrive/Courses/TDDE19/Kod/Grupp 2/audio3sec/{g}',f'{filename}')\n",
        "        j += 1\n",
        "        \n",
        "        y,sr = librosa.load(song,duration=3)\n",
        "        mels = librosa.feature.melspectrogram(y=y,sr=sr)\n",
        "        fig = plt.Figure()\n",
        "        canvas = FigureCanvas(fig)\n",
        "        p = plt.imshow(librosa.power_to_db(mels,ref=np.max))\n",
        "        plt.savefig(f'/content/drive/MyDrive/Courses/TDDE19/Kod/Grupp 2/spectrograms3sec/test/{g}/{g+str(j)}.png')\n",
        "      \n",
        "        #Checkpoint\n",
        "        finishedGenre[g] = j\n",
        "        with open('/content/drive/MyDrive/Courses/TDDE19/Kod/Grupp 2/checkpoint_spectogram_gen.pkl', 'wb') as f:\n",
        "            pickle.dump(finishedGenre, f)\n",
        "      \n",
        "        # Will print the latest written file, clearing previous output.\n",
        "        print(\"\\r\" + \"Done: \" + g + str(j) + \".png\", end=\"\")\n"
      ],
      "execution_count": null,
      "outputs": []
    },
    {
      "cell_type": "markdown",
      "metadata": {
        "id": "3jXmQMJP4x6T"
      },
      "source": [
        "#Step-5: Split data into training and test"
      ]
    },
    {
      "cell_type": "code",
      "metadata": {
        "id": "OpXGHBr34pNC"
      },
      "source": [
        "if factory_reset:\n",
        "  directory = \"/content/drive/MyDrive/Courses/TDDE19/Kod/Grupp 2/spectrograms3sec/train/\"\n",
        "  for g in genres:\n",
        "    filenames = os.listdir(os.path.join(directory,f\"{g}\"))\n",
        "    random.shuffle(filenames)\n",
        "    test_files = filenames[0:100]\n",
        "\n",
        "    for f in test_files:\n",
        "      shutil.move(directory + f\"{g}\"+ \"/\" + f,\"/content/drive/MyDrive/Courses/TDDE19/Kod/Grupp 2/spectrograms3sec/test/\" + f\"{g}\")\n"
      ],
      "execution_count": null,
      "outputs": []
    },
    {
      "cell_type": "markdown",
      "metadata": {
        "id": "-SbE_JhedwCD"
      },
      "source": [
        "#Step-6: Create data generators for training and testing test\n",
        "- Keras ***ImageDataGenerator*** is used to simplify training on large dataset. It assures that only one batch per step is trained which optimizes the usage memory resources."
      ]
    },
    {
      "cell_type": "code",
      "metadata": {
        "colab": {
          "base_uri": "https://localhost:8080/"
        },
        "id": "uSliZ-HBxRU5",
        "outputId": "f8389174-e5eb-4884-c4f7-7186bc81734b"
      },
      "source": [
        "train_dir = \"/content/drive/MyDrive/Mina Dokument/Skola - Drive/TDDE19 - Advanced Project Course - AI and Machine Learning/Kod/Grupp 2/spectrograms3sec/train/\"\n",
        "train_datagen = ImageDataGenerator(rescale=1./255)\n",
        "train_generator = train_datagen.flow_from_directory(train_dir,target_size=(288,432), color_mode=\"rgba\",class_mode='categorical', batch_size=128)\n",
        "\n",
        "validation_dir = \"/content/drive/MyDrive/Mina Dokument/Skola - Drive/TDDE19 - Advanced Project Course - AI and Machine Learning/Kod/Grupp 2/spectrograms3sec/test/\"\n",
        "vali_datagen = ImageDataGenerator(rescale=1./255)\n",
        "vali_generator = vali_datagen.flow_from_directory(validation_dir,target_size=(288,432),color_mode='rgba',class_mode='categorical', batch_size=128)"
      ],
      "execution_count": null,
      "outputs": [
        {
          "output_type": "stream",
          "name": "stdout",
          "text": [
            "Found 8100 images belonging to 9 classes.\n",
            "Found 900 images belonging to 9 classes.\n"
          ]
        }
      ]
    },
    {
      "cell_type": "markdown",
      "metadata": {
        "id": "TLoaTLJOecVQ"
      },
      "source": [
        "#Step-7: Defining the CNN model\n",
        "- The following model is based on 5 convolutional layers, 1 dropout layer to avoid overfitting and a Dense layer with Softmax activation on the final ouput. ReLU is used as the activation function in the hidden layers."
      ]
    },
    {
      "cell_type": "code",
      "metadata": {
        "id": "xcFAWacEefni"
      },
      "source": [
        "\n",
        "def GenreModel(input_shape = (288,432,4), classes=9):\n",
        "  \n",
        "  X_input = Input(input_shape)\n",
        "\n",
        "  X = Conv2D(8, kernel_size=(3,3), strides=(1,1))(X_input)\n",
        "  X = BatchNormalization(axis=3)(X)\n",
        "  X = Activation('relu')(X)\n",
        "  X = MaxPooling2D((2,2))(X)\n",
        "  \n",
        "  X = Conv2D(16, kernel_size=(3,3), strides = (1,1))(X)\n",
        "  X = BatchNormalization(axis=3)(X)\n",
        "  X = Activation('relu')(X)\n",
        "  X = MaxPooling2D((2,2))(X)\n",
        "  \n",
        "  X = Conv2D(32, kernel_size=(3,3), strides = (1,1))(X)\n",
        "  X = BatchNormalization(axis=3)(X)\n",
        "  X = Activation('relu')(X)\n",
        "  X = MaxPooling2D((2,2))(X)\n",
        "\n",
        "  X = Conv2D(64, kernel_size=(3,3), strides=(1,1))(X)\n",
        "  X = BatchNormalization(axis=-1)(X)\n",
        "  X = Activation('relu')(X)\n",
        "  X = MaxPooling2D((2,2))(X)\n",
        "  \n",
        "  X = Conv2D(128, kernel_size=(3,3), strides=(1,1))(X)\n",
        "  X = BatchNormalization(axis=-1)(X)\n",
        "  X = Activation('relu')(X)\n",
        "  X = MaxPooling2D((2,2))(X)\n",
        "\n",
        "  \n",
        "  X = Flatten()(X)\n",
        "  \n",
        "  X = Dropout(rate=0.3)(X)\n",
        "\n",
        "  X = Dense(classes, activation='softmax', name='fc' + str(classes))(X)\n",
        "\n",
        "\n",
        "  model = Model(inputs=X_input,outputs=X,name='GenreModel')\n",
        "\n",
        "  return model"
      ],
      "execution_count": null,
      "outputs": []
    },
    {
      "cell_type": "markdown",
      "metadata": {
        "id": "kLnW0GhzfAbQ"
      },
      "source": [
        "#Step-7: Training"
      ]
    },
    {
      "cell_type": "code",
      "metadata": {
        "colab": {
          "base_uri": "https://localhost:8080/",
          "height": 35
        },
        "id": "o7mUvXwsDe-F",
        "outputId": "5bddb2fc-7671-4259-b08c-d76d4a01a456"
      },
      "source": [
        "import tensorflow as tf\n",
        "\n",
        "CUDA_VISIBLE_DEVICES=1\n",
        "tf.test.gpu_device_name()\n"
      ],
      "execution_count": null,
      "outputs": [
        {
          "output_type": "execute_result",
          "data": {
            "application/vnd.google.colaboratory.intrinsic+json": {
              "type": "string"
            },
            "text/plain": [
              "'/device:GPU:0'"
            ]
          },
          "metadata": {},
          "execution_count": 9
        }
      ]
    },
    {
      "cell_type": "code",
      "metadata": {
        "colab": {
          "base_uri": "https://localhost:8080/"
        },
        "id": "D4f2Az9kfDC8",
        "outputId": "70ef48f1-2dc9-4f87-aaaa-aaad4811135d"
      },
      "source": [
        "import tensorflow as tf\n",
        "import keras.backend as K\n",
        "from keras.callbacks import ModelCheckpoint, EarlyStopping\n",
        "  \n",
        "model = GenreModel(input_shape=(288,432,4), classes=9)\n",
        "opt = Adam(learning_rate=0.0003)\n",
        "model.compile(optimizer = opt, loss='categorical_crossentropy', metrics=['accuracy']) \n",
        "print(model.summary())\n",
        "\n",
        "# define the checkpoint\n",
        "filepath = \"/content/drive/MyDrive/Courses/TDDE19/Kod/Grupp 2/Checkpoint/best_model.h5\"\n",
        "\n",
        "# Monitor = Which value to monitor. Verbose = 1 will print which epoch that the model is saved on. Mode = min defines that the minimum monitored value is the best loss.\n",
        "mc = ModelCheckpoint(filepath, monitor='val_accuracy', verbose=1, save_best_only=True, mode='max')\n",
        "es = EarlyStopping(monitor='val_accuracy', mode='max', verbose=1, patience=10)\n",
        "callbacks_list = [mc, es]\n",
        "\n",
        "with tf.device('/device:GPU:0'):  \n",
        "  history = model.fit(train_generator,epochs=60,validation_data=vali_generator, callbacks=callbacks_list)\n",
        "model.save('/content/drive/MyDrive/Courses/TDDE19/Kod/Grupp 2/genre_model(1)')"
      ],
      "execution_count": null,
      "outputs": [
        {
          "output_type": "stream",
          "name": "stdout",
          "text": [
            "Model: \"GenreModel\"\n",
            "_________________________________________________________________\n",
            " Layer (type)                Output Shape              Param #   \n",
            "=================================================================\n",
            " input_3 (InputLayer)        [(None, 288, 432, 4)]     0         \n",
            "                                                                 \n",
            " conv2d_10 (Conv2D)          (None, 286, 430, 8)       296       \n",
            "                                                                 \n",
            " batch_normalization_10 (Bat  (None, 286, 430, 8)      32        \n",
            " chNormalization)                                                \n",
            "                                                                 \n",
            " activation_10 (Activation)  (None, 286, 430, 8)       0         \n",
            "                                                                 \n",
            " max_pooling2d_10 (MaxPoolin  (None, 143, 215, 8)      0         \n",
            " g2D)                                                            \n",
            "                                                                 \n",
            " conv2d_11 (Conv2D)          (None, 141, 213, 16)      1168      \n",
            "                                                                 \n",
            " batch_normalization_11 (Bat  (None, 141, 213, 16)     64        \n",
            " chNormalization)                                                \n",
            "                                                                 \n",
            " activation_11 (Activation)  (None, 141, 213, 16)      0         \n",
            "                                                                 \n",
            " max_pooling2d_11 (MaxPoolin  (None, 70, 106, 16)      0         \n",
            " g2D)                                                            \n",
            "                                                                 \n",
            " conv2d_12 (Conv2D)          (None, 68, 104, 32)       4640      \n",
            "                                                                 \n",
            " batch_normalization_12 (Bat  (None, 68, 104, 32)      128       \n",
            " chNormalization)                                                \n",
            "                                                                 \n",
            " activation_12 (Activation)  (None, 68, 104, 32)       0         \n",
            "                                                                 \n",
            " max_pooling2d_12 (MaxPoolin  (None, 34, 52, 32)       0         \n",
            " g2D)                                                            \n",
            "                                                                 \n",
            " conv2d_13 (Conv2D)          (None, 32, 50, 64)        18496     \n",
            "                                                                 \n",
            " batch_normalization_13 (Bat  (None, 32, 50, 64)       256       \n",
            " chNormalization)                                                \n",
            "                                                                 \n",
            " activation_13 (Activation)  (None, 32, 50, 64)        0         \n",
            "                                                                 \n",
            " max_pooling2d_13 (MaxPoolin  (None, 16, 25, 64)       0         \n",
            " g2D)                                                            \n",
            "                                                                 \n",
            " conv2d_14 (Conv2D)          (None, 14, 23, 128)       73856     \n",
            "                                                                 \n",
            " batch_normalization_14 (Bat  (None, 14, 23, 128)      512       \n",
            " chNormalization)                                                \n",
            "                                                                 \n",
            " activation_14 (Activation)  (None, 14, 23, 128)       0         \n",
            "                                                                 \n",
            " max_pooling2d_14 (MaxPoolin  (None, 7, 11, 128)       0         \n",
            " g2D)                                                            \n",
            "                                                                 \n",
            " flatten_2 (Flatten)         (None, 9856)              0         \n",
            "                                                                 \n",
            " dropout_2 (Dropout)         (None, 9856)              0         \n",
            "                                                                 \n",
            " fc9 (Dense)                 (None, 9)                 88713     \n",
            "                                                                 \n",
            "=================================================================\n",
            "Total params: 188,161\n",
            "Trainable params: 187,665\n",
            "Non-trainable params: 496\n",
            "_________________________________________________________________\n",
            "None\n",
            "Epoch 1/60\n",
            "64/64 [==============================] - ETA: 0s - loss: 2.1319 - accuracy: 0.2999\n",
            "Epoch 00001: val_accuracy improved from -inf to 0.11111, saving model to /content/drive/MyDrive/Courses/TDDE19/Kod/Grupp 2/Checkpoint/best_model.h5\n",
            "64/64 [==============================] - 94s 1s/step - loss: 2.1319 - accuracy: 0.2999 - val_loss: 2.2423 - val_accuracy: 0.1111\n",
            "Epoch 2/60\n",
            "64/64 [==============================] - ETA: 0s - loss: 1.4309 - accuracy: 0.4880\n",
            "Epoch 00002: val_accuracy did not improve from 0.11111\n",
            "64/64 [==============================] - 91s 1s/step - loss: 1.4309 - accuracy: 0.4880 - val_loss: 2.8781 - val_accuracy: 0.1111\n",
            "Epoch 3/60\n",
            "64/64 [==============================] - ETA: 0s - loss: 1.2012 - accuracy: 0.5732\n",
            "Epoch 00003: val_accuracy improved from 0.11111 to 0.12556, saving model to /content/drive/MyDrive/Courses/TDDE19/Kod/Grupp 2/Checkpoint/best_model.h5\n",
            "64/64 [==============================] - 93s 1s/step - loss: 1.2012 - accuracy: 0.5732 - val_loss: 4.0383 - val_accuracy: 0.1256\n",
            "Epoch 4/60\n",
            "64/64 [==============================] - ETA: 0s - loss: 1.0679 - accuracy: 0.6286\n",
            "Epoch 00004: val_accuracy did not improve from 0.12556\n",
            "64/64 [==============================] - 91s 1s/step - loss: 1.0679 - accuracy: 0.6286 - val_loss: 5.1110 - val_accuracy: 0.1144\n",
            "Epoch 5/60\n",
            "64/64 [==============================] - ETA: 0s - loss: 0.9494 - accuracy: 0.6717\n",
            "Epoch 00005: val_accuracy improved from 0.12556 to 0.20111, saving model to /content/drive/MyDrive/Courses/TDDE19/Kod/Grupp 2/Checkpoint/best_model.h5\n",
            "64/64 [==============================] - 91s 1s/step - loss: 0.9494 - accuracy: 0.6717 - val_loss: 4.1186 - val_accuracy: 0.2011\n",
            "Epoch 6/60\n",
            "64/64 [==============================] - ETA: 0s - loss: 0.8789 - accuracy: 0.6935\n",
            "Epoch 00006: val_accuracy improved from 0.20111 to 0.20556, saving model to /content/drive/MyDrive/Courses/TDDE19/Kod/Grupp 2/Checkpoint/best_model.h5\n",
            "64/64 [==============================] - 91s 1s/step - loss: 0.8789 - accuracy: 0.6935 - val_loss: 3.9050 - val_accuracy: 0.2056\n",
            "Epoch 7/60\n",
            "64/64 [==============================] - ETA: 0s - loss: 0.7841 - accuracy: 0.7301\n",
            "Epoch 00007: val_accuracy improved from 0.20556 to 0.25889, saving model to /content/drive/MyDrive/Courses/TDDE19/Kod/Grupp 2/Checkpoint/best_model.h5\n",
            "64/64 [==============================] - 91s 1s/step - loss: 0.7841 - accuracy: 0.7301 - val_loss: 3.0985 - val_accuracy: 0.2589\n",
            "Epoch 8/60\n",
            "64/64 [==============================] - ETA: 0s - loss: 0.6809 - accuracy: 0.7615\n",
            "Epoch 00008: val_accuracy improved from 0.25889 to 0.38778, saving model to /content/drive/MyDrive/Courses/TDDE19/Kod/Grupp 2/Checkpoint/best_model.h5\n",
            "64/64 [==============================] - 91s 1s/step - loss: 0.6809 - accuracy: 0.7615 - val_loss: 2.3123 - val_accuracy: 0.3878\n",
            "Epoch 9/60\n",
            "64/64 [==============================] - ETA: 0s - loss: 0.6325 - accuracy: 0.7772\n",
            "Epoch 00009: val_accuracy improved from 0.38778 to 0.53444, saving model to /content/drive/MyDrive/Courses/TDDE19/Kod/Grupp 2/Checkpoint/best_model.h5\n",
            "64/64 [==============================] - 91s 1s/step - loss: 0.6325 - accuracy: 0.7772 - val_loss: 1.5206 - val_accuracy: 0.5344\n",
            "Epoch 10/60\n",
            "64/64 [==============================] - ETA: 0s - loss: 0.5998 - accuracy: 0.7931\n",
            "Epoch 00010: val_accuracy did not improve from 0.53444\n",
            "64/64 [==============================] - 91s 1s/step - loss: 0.5998 - accuracy: 0.7931 - val_loss: 1.3094 - val_accuracy: 0.5200\n",
            "Epoch 11/60\n",
            "64/64 [==============================] - ETA: 0s - loss: 0.5392 - accuracy: 0.8111\n",
            "Epoch 00011: val_accuracy improved from 0.53444 to 0.67556, saving model to /content/drive/MyDrive/Courses/TDDE19/Kod/Grupp 2/Checkpoint/best_model.h5\n",
            "64/64 [==============================] - 91s 1s/step - loss: 0.5392 - accuracy: 0.8111 - val_loss: 0.9074 - val_accuracy: 0.6756\n",
            "Epoch 12/60\n",
            "64/64 [==============================] - ETA: 0s - loss: 0.4930 - accuracy: 0.8293\n",
            "Epoch 00012: val_accuracy did not improve from 0.67556\n",
            "64/64 [==============================] - 91s 1s/step - loss: 0.4930 - accuracy: 0.8293 - val_loss: 1.0347 - val_accuracy: 0.6633\n",
            "Epoch 13/60\n",
            "64/64 [==============================] - ETA: 0s - loss: 0.4652 - accuracy: 0.8388\n",
            "Epoch 00013: val_accuracy did not improve from 0.67556\n",
            "64/64 [==============================] - 90s 1s/step - loss: 0.4652 - accuracy: 0.8388 - val_loss: 0.8921 - val_accuracy: 0.6678\n",
            "Epoch 14/60\n",
            "64/64 [==============================] - ETA: 0s - loss: 0.4251 - accuracy: 0.8483\n",
            "Epoch 00014: val_accuracy did not improve from 0.67556\n",
            "64/64 [==============================] - 90s 1s/step - loss: 0.4251 - accuracy: 0.8483 - val_loss: 1.1989 - val_accuracy: 0.5911\n",
            "Epoch 15/60\n",
            "64/64 [==============================] - ETA: 0s - loss: 0.3525 - accuracy: 0.8777\n",
            "Epoch 00015: val_accuracy did not improve from 0.67556\n",
            "64/64 [==============================] - 91s 1s/step - loss: 0.3525 - accuracy: 0.8777 - val_loss: 0.9190 - val_accuracy: 0.6678\n",
            "Epoch 16/60\n",
            "64/64 [==============================] - ETA: 0s - loss: 0.3236 - accuracy: 0.8878\n",
            "Epoch 00016: val_accuracy did not improve from 0.67556\n",
            "64/64 [==============================] - 91s 1s/step - loss: 0.3236 - accuracy: 0.8878 - val_loss: 0.9966 - val_accuracy: 0.6478\n",
            "Epoch 17/60\n",
            "64/64 [==============================] - ETA: 0s - loss: 0.2934 - accuracy: 0.8963\n",
            "Epoch 00017: val_accuracy improved from 0.67556 to 0.73778, saving model to /content/drive/MyDrive/Courses/TDDE19/Kod/Grupp 2/Checkpoint/best_model.h5\n",
            "64/64 [==============================] - 91s 1s/step - loss: 0.2934 - accuracy: 0.8963 - val_loss: 0.7309 - val_accuracy: 0.7378\n",
            "Epoch 18/60\n",
            "64/64 [==============================] - ETA: 0s - loss: 0.2595 - accuracy: 0.9133\n",
            "Epoch 00018: val_accuracy did not improve from 0.73778\n",
            "64/64 [==============================] - 91s 1s/step - loss: 0.2595 - accuracy: 0.9133 - val_loss: 0.9884 - val_accuracy: 0.6556\n",
            "Epoch 19/60\n",
            "64/64 [==============================] - ETA: 0s - loss: 0.2664 - accuracy: 0.9060\n",
            "Epoch 00019: val_accuracy did not improve from 0.73778\n",
            "64/64 [==============================] - 91s 1s/step - loss: 0.2664 - accuracy: 0.9060 - val_loss: 0.7836 - val_accuracy: 0.7189\n",
            "Epoch 20/60\n",
            "64/64 [==============================] - ETA: 0s - loss: 0.2272 - accuracy: 0.9231\n",
            "Epoch 00020: val_accuracy did not improve from 0.73778\n",
            "64/64 [==============================] - 91s 1s/step - loss: 0.2272 - accuracy: 0.9231 - val_loss: 1.1480 - val_accuracy: 0.6867\n",
            "Epoch 21/60\n",
            "64/64 [==============================] - ETA: 0s - loss: 0.1977 - accuracy: 0.9320\n",
            "Epoch 00021: val_accuracy improved from 0.73778 to 0.74111, saving model to /content/drive/MyDrive/Courses/TDDE19/Kod/Grupp 2/Checkpoint/best_model.h5\n",
            "64/64 [==============================] - 91s 1s/step - loss: 0.1977 - accuracy: 0.9320 - val_loss: 0.8688 - val_accuracy: 0.7411\n",
            "Epoch 22/60\n",
            "64/64 [==============================] - ETA: 0s - loss: 0.1935 - accuracy: 0.9349\n",
            "Epoch 00022: val_accuracy did not improve from 0.74111\n",
            "64/64 [==============================] - 91s 1s/step - loss: 0.1935 - accuracy: 0.9349 - val_loss: 0.7810 - val_accuracy: 0.7278\n",
            "Epoch 23/60\n",
            "64/64 [==============================] - ETA: 0s - loss: 0.1675 - accuracy: 0.9477\n",
            "Epoch 00023: val_accuracy improved from 0.74111 to 0.79889, saving model to /content/drive/MyDrive/Courses/TDDE19/Kod/Grupp 2/Checkpoint/best_model.h5\n",
            "64/64 [==============================] - 91s 1s/step - loss: 0.1675 - accuracy: 0.9477 - val_loss: 0.6007 - val_accuracy: 0.7989\n",
            "Epoch 24/60\n",
            "64/64 [==============================] - ETA: 0s - loss: 0.1532 - accuracy: 0.9507\n",
            "Epoch 00024: val_accuracy did not improve from 0.79889\n",
            "64/64 [==============================] - 91s 1s/step - loss: 0.1532 - accuracy: 0.9507 - val_loss: 0.8053 - val_accuracy: 0.7278\n",
            "Epoch 25/60\n",
            "64/64 [==============================] - ETA: 0s - loss: 0.1371 - accuracy: 0.9535\n",
            "Epoch 00025: val_accuracy improved from 0.79889 to 0.81000, saving model to /content/drive/MyDrive/Courses/TDDE19/Kod/Grupp 2/Checkpoint/best_model.h5\n",
            "64/64 [==============================] - 91s 1s/step - loss: 0.1371 - accuracy: 0.9535 - val_loss: 0.5745 - val_accuracy: 0.8100\n",
            "Epoch 26/60\n",
            "64/64 [==============================] - ETA: 0s - loss: 0.1266 - accuracy: 0.9600\n",
            "Epoch 00026: val_accuracy did not improve from 0.81000\n",
            "64/64 [==============================] - 91s 1s/step - loss: 0.1266 - accuracy: 0.9600 - val_loss: 0.9814 - val_accuracy: 0.6844\n",
            "Epoch 27/60\n",
            "64/64 [==============================] - ETA: 0s - loss: 0.1148 - accuracy: 0.9657\n",
            "Epoch 00027: val_accuracy improved from 0.81000 to 0.81778, saving model to /content/drive/MyDrive/Courses/TDDE19/Kod/Grupp 2/Checkpoint/best_model.h5\n",
            "64/64 [==============================] - 91s 1s/step - loss: 0.1148 - accuracy: 0.9657 - val_loss: 0.6048 - val_accuracy: 0.8178\n",
            "Epoch 28/60\n",
            "64/64 [==============================] - ETA: 0s - loss: 0.1085 - accuracy: 0.9674\n",
            "Epoch 00028: val_accuracy did not improve from 0.81778\n",
            "64/64 [==============================] - 90s 1s/step - loss: 0.1085 - accuracy: 0.9674 - val_loss: 0.5912 - val_accuracy: 0.8078\n",
            "Epoch 29/60\n",
            "64/64 [==============================] - ETA: 0s - loss: 0.0989 - accuracy: 0.9704\n",
            "Epoch 00029: val_accuracy improved from 0.81778 to 0.82000, saving model to /content/drive/MyDrive/Courses/TDDE19/Kod/Grupp 2/Checkpoint/best_model.h5\n",
            "64/64 [==============================] - 91s 1s/step - loss: 0.0989 - accuracy: 0.9704 - val_loss: 0.5450 - val_accuracy: 0.8200\n",
            "Epoch 30/60\n",
            "64/64 [==============================] - ETA: 0s - loss: 0.0872 - accuracy: 0.9751\n",
            "Epoch 00030: val_accuracy did not improve from 0.82000\n",
            "64/64 [==============================] - 91s 1s/step - loss: 0.0872 - accuracy: 0.9751 - val_loss: 0.6445 - val_accuracy: 0.7900\n",
            "Epoch 31/60\n",
            "64/64 [==============================] - ETA: 0s - loss: 0.0835 - accuracy: 0.9756\n",
            "Epoch 00031: val_accuracy did not improve from 0.82000\n",
            "64/64 [==============================] - 91s 1s/step - loss: 0.0835 - accuracy: 0.9756 - val_loss: 0.6672 - val_accuracy: 0.7778\n",
            "Epoch 32/60\n",
            "64/64 [==============================] - ETA: 0s - loss: 0.0859 - accuracy: 0.9774\n",
            "Epoch 00032: val_accuracy did not improve from 0.82000\n",
            "64/64 [==============================] - 91s 1s/step - loss: 0.0859 - accuracy: 0.9774 - val_loss: 0.6619 - val_accuracy: 0.7978\n",
            "Epoch 33/60\n",
            "64/64 [==============================] - ETA: 0s - loss: 0.0729 - accuracy: 0.9795\n",
            "Epoch 00033: val_accuracy did not improve from 0.82000\n",
            "64/64 [==============================] - 90s 1s/step - loss: 0.0729 - accuracy: 0.9795 - val_loss: 0.6193 - val_accuracy: 0.7967\n",
            "Epoch 34/60\n",
            "64/64 [==============================] - ETA: 0s - loss: 0.0786 - accuracy: 0.9778\n",
            "Epoch 00034: val_accuracy did not improve from 0.82000\n",
            "64/64 [==============================] - 90s 1s/step - loss: 0.0786 - accuracy: 0.9778 - val_loss: 0.5932 - val_accuracy: 0.8000\n",
            "Epoch 35/60\n",
            "64/64 [==============================] - ETA: 0s - loss: 0.0703 - accuracy: 0.9794\n",
            "Epoch 00035: val_accuracy improved from 0.82000 to 0.83667, saving model to /content/drive/MyDrive/Courses/TDDE19/Kod/Grupp 2/Checkpoint/best_model.h5\n",
            "64/64 [==============================] - 91s 1s/step - loss: 0.0703 - accuracy: 0.9794 - val_loss: 0.5178 - val_accuracy: 0.8367\n",
            "Epoch 36/60\n",
            "64/64 [==============================] - ETA: 0s - loss: 0.0581 - accuracy: 0.9852\n",
            "Epoch 00036: val_accuracy did not improve from 0.83667\n",
            "64/64 [==============================] - 91s 1s/step - loss: 0.0581 - accuracy: 0.9852 - val_loss: 0.6474 - val_accuracy: 0.8000\n",
            "Epoch 37/60\n",
            "64/64 [==============================] - ETA: 0s - loss: 0.0599 - accuracy: 0.9830\n",
            "Epoch 00037: val_accuracy improved from 0.83667 to 0.84222, saving model to /content/drive/MyDrive/Courses/TDDE19/Kod/Grupp 2/Checkpoint/best_model.h5\n",
            "64/64 [==============================] - 91s 1s/step - loss: 0.0599 - accuracy: 0.9830 - val_loss: 0.4622 - val_accuracy: 0.8422\n",
            "Epoch 38/60\n",
            "64/64 [==============================] - ETA: 0s - loss: 0.0535 - accuracy: 0.9856\n",
            "Epoch 00038: val_accuracy did not improve from 0.84222\n",
            "64/64 [==============================] - 90s 1s/step - loss: 0.0535 - accuracy: 0.9856 - val_loss: 0.6407 - val_accuracy: 0.8022\n",
            "Epoch 39/60\n",
            "64/64 [==============================] - ETA: 0s - loss: 0.0659 - accuracy: 0.9810\n",
            "Epoch 00039: val_accuracy did not improve from 0.84222\n",
            "64/64 [==============================] - 91s 1s/step - loss: 0.0659 - accuracy: 0.9810 - val_loss: 0.6089 - val_accuracy: 0.8056\n",
            "Epoch 40/60\n",
            "64/64 [==============================] - ETA: 0s - loss: 0.0664 - accuracy: 0.9805\n",
            "Epoch 00040: val_accuracy did not improve from 0.84222\n",
            "64/64 [==============================] - 91s 1s/step - loss: 0.0664 - accuracy: 0.9805 - val_loss: 0.9904 - val_accuracy: 0.7067\n",
            "Epoch 41/60\n",
            "64/64 [==============================] - ETA: 0s - loss: 0.0443 - accuracy: 0.9890\n",
            "Epoch 00041: val_accuracy did not improve from 0.84222\n",
            "64/64 [==============================] - 90s 1s/step - loss: 0.0443 - accuracy: 0.9890 - val_loss: 0.5733 - val_accuracy: 0.8244\n",
            "Epoch 42/60\n",
            "64/64 [==============================] - ETA: 0s - loss: 0.0490 - accuracy: 0.9875\n",
            "Epoch 00042: val_accuracy did not improve from 0.84222\n",
            "64/64 [==============================] - 91s 1s/step - loss: 0.0490 - accuracy: 0.9875 - val_loss: 0.5342 - val_accuracy: 0.8411\n",
            "Epoch 43/60\n",
            "64/64 [==============================] - ETA: 0s - loss: 0.0383 - accuracy: 0.9907\n",
            "Epoch 00043: val_accuracy did not improve from 0.84222\n",
            "64/64 [==============================] - 91s 1s/step - loss: 0.0383 - accuracy: 0.9907 - val_loss: 0.8388 - val_accuracy: 0.7756\n",
            "Epoch 44/60\n",
            "64/64 [==============================] - ETA: 0s - loss: 0.0376 - accuracy: 0.9928\n",
            "Epoch 00044: val_accuracy did not improve from 0.84222\n",
            "64/64 [==============================] - 91s 1s/step - loss: 0.0376 - accuracy: 0.9928 - val_loss: 0.6348 - val_accuracy: 0.8033\n",
            "Epoch 45/60\n",
            "64/64 [==============================] - ETA: 0s - loss: 0.0385 - accuracy: 0.9909\n",
            "Epoch 00045: val_accuracy did not improve from 0.84222\n",
            "64/64 [==============================] - 91s 1s/step - loss: 0.0385 - accuracy: 0.9909 - val_loss: 0.5348 - val_accuracy: 0.8322\n",
            "Epoch 46/60\n",
            "64/64 [==============================] - ETA: 0s - loss: 0.0452 - accuracy: 0.9896\n",
            "Epoch 00046: val_accuracy did not improve from 0.84222\n",
            "64/64 [==============================] - 91s 1s/step - loss: 0.0452 - accuracy: 0.9896 - val_loss: 0.7155 - val_accuracy: 0.7856\n",
            "Epoch 47/60\n",
            "64/64 [==============================] - ETA: 0s - loss: 0.0371 - accuracy: 0.9895\n",
            "Epoch 00047: val_accuracy did not improve from 0.84222\n",
            "64/64 [==============================] - 91s 1s/step - loss: 0.0371 - accuracy: 0.9895 - val_loss: 0.8838 - val_accuracy: 0.7544\n",
            "Epoch 00047: early stopping\n",
            "INFO:tensorflow:Assets written to: /content/drive/MyDrive/Courses/TDDE19/Kod/Grupp 2/genre_model(1)/assets\n"
          ]
        }
      ]
    },
    {
      "cell_type": "code",
      "metadata": {
        "id": "KSSqAVIEdJSI"
      },
      "source": [
        ""
      ],
      "execution_count": null,
      "outputs": []
    },
    {
      "cell_type": "markdown",
      "metadata": {
        "id": "getNDBPQ20cI"
      },
      "source": [
        "#Load model from checkpoint and continue training"
      ]
    },
    {
      "cell_type": "code",
      "metadata": {
        "id": "9noJV5C_Gheg"
      },
      "source": [
        "from keras.models import load_model\n",
        "model = load_model(\"/content/drive/MyDrive/Mina Dokument/Skola - Drive/TDDE19 - Advanced Project Course - AI and Machine Learning/Kod/Grupp 2/Checkpoint/best_model.h5\")"
      ],
      "execution_count": null,
      "outputs": []
    },
    {
      "cell_type": "code",
      "metadata": {
        "colab": {
          "base_uri": "https://localhost:8080/"
        },
        "id": "KMxU8LeKEEOQ",
        "outputId": "5a0e7b35-6671-4b65-e489-e251c86cd80e"
      },
      "source": [
        "from tensorflow import keras\n",
        "from keras.models import load_model\n",
        "from keras.callbacks import ModelCheckpoint, EarlyStopping\n",
        "\n",
        "\n",
        "\n",
        "# define the checkpoint: https://machinelearningmastery.com/how-to-stop-training-deep-neural-networks-at-the-right-time-using-early-stopping/\n",
        "filepath = \"/content/drive/MyDrive/Courses/TDDE19/Kod/Grupp 2/Checkpoint/best_model.h5\"\n",
        "# Monitor = Which value to monitor. Verbose = 1 will print which epoch that the model is saved on. Mode = min defines that the minimum monitored value is the best loss.\n",
        "mc = ModelCheckpoint(filepath, monitor='val_accuracy', verbose=1, save_best_only=True, mode='max')\n",
        "es = EarlyStopping(monitor='val_accuracy', mode='max', verbose=1, patience=10)\n",
        "callbacks_list = [mc, es]\n",
        "\n",
        "with tf.device('/device:GPU:0'):  \n",
        "  history = model.fit(train_generator,epochs=200,validation_data=vali_generator, callbacks=callbacks_list)\n",
        "model.save('/content/drive/MyDrive/Courses/TDDE19/Kod/Grupp 2/genre_model(1)')"
      ],
      "execution_count": null,
      "outputs": [
        {
          "output_type": "stream",
          "name": "stdout",
          "text": [
            "Epoch 1/200\n",
            "64/64 [==============================] - 92s 1s/step - loss: 0.0196 - accuracy: 0.9960 - val_loss: 0.8242 - val_accuracy: 0.7833\n",
            "\n",
            "Epoch 00001: val_accuracy improved from -inf to 0.78333, saving model to /content/drive/MyDrive/Courses/TDDE19/Kod/Grupp 2/Checkpoint/best_model.h5\n",
            "Epoch 2/200\n",
            "64/64 [==============================] - 87s 1s/step - loss: 0.0254 - accuracy: 0.9944 - val_loss: 0.8105 - val_accuracy: 0.8167\n",
            "\n",
            "Epoch 00002: val_accuracy improved from 0.78333 to 0.81667, saving model to /content/drive/MyDrive/Courses/TDDE19/Kod/Grupp 2/Checkpoint/best_model.h5\n",
            "Epoch 3/200\n",
            "64/64 [==============================] - 87s 1s/step - loss: 0.0387 - accuracy: 0.9889 - val_loss: 0.5130 - val_accuracy: 0.8511\n",
            "\n",
            "Epoch 00003: val_accuracy improved from 0.81667 to 0.85111, saving model to /content/drive/MyDrive/Courses/TDDE19/Kod/Grupp 2/Checkpoint/best_model.h5\n",
            "Epoch 4/200\n",
            "64/64 [==============================] - 86s 1s/step - loss: 0.0245 - accuracy: 0.9946 - val_loss: 0.7056 - val_accuracy: 0.8322\n",
            "\n",
            "Epoch 00004: val_accuracy did not improve from 0.85111\n",
            "Epoch 5/200\n",
            "64/64 [==============================] - 87s 1s/step - loss: 0.0259 - accuracy: 0.9928 - val_loss: 0.9259 - val_accuracy: 0.7533\n",
            "\n",
            "Epoch 00005: val_accuracy did not improve from 0.85111\n",
            "Epoch 6/200\n",
            "64/64 [==============================] - 85s 1s/step - loss: 0.0255 - accuracy: 0.9943 - val_loss: 1.1771 - val_accuracy: 0.7111\n",
            "\n",
            "Epoch 00006: val_accuracy did not improve from 0.85111\n",
            "Epoch 7/200\n",
            "64/64 [==============================] - 86s 1s/step - loss: 0.0247 - accuracy: 0.9952 - val_loss: 1.4823 - val_accuracy: 0.7033\n",
            "\n",
            "Epoch 00007: val_accuracy did not improve from 0.85111\n",
            "Epoch 8/200\n",
            "64/64 [==============================] - 86s 1s/step - loss: 0.0188 - accuracy: 0.9962 - val_loss: 1.3931 - val_accuracy: 0.6789\n",
            "\n",
            "Epoch 00008: val_accuracy did not improve from 0.85111\n",
            "Epoch 9/200\n",
            "64/64 [==============================] - 85s 1s/step - loss: 0.0283 - accuracy: 0.9927 - val_loss: 0.8776 - val_accuracy: 0.7833\n",
            "\n",
            "Epoch 00009: val_accuracy did not improve from 0.85111\n",
            "Epoch 10/200\n",
            "64/64 [==============================] - 85s 1s/step - loss: 0.0300 - accuracy: 0.9919 - val_loss: 1.0153 - val_accuracy: 0.7522\n",
            "\n",
            "Epoch 00010: val_accuracy did not improve from 0.85111\n",
            "Epoch 11/200\n",
            "64/64 [==============================] - 85s 1s/step - loss: 0.0385 - accuracy: 0.9886 - val_loss: 1.7424 - val_accuracy: 0.6900\n",
            "\n",
            "Epoch 00011: val_accuracy did not improve from 0.85111\n",
            "Epoch 12/200\n",
            "64/64 [==============================] - 85s 1s/step - loss: 0.0385 - accuracy: 0.9868 - val_loss: 1.1086 - val_accuracy: 0.7089\n",
            "\n",
            "Epoch 00012: val_accuracy did not improve from 0.85111\n",
            "Epoch 13/200\n",
            "64/64 [==============================] - 84s 1s/step - loss: 0.0478 - accuracy: 0.9854 - val_loss: 2.5961 - val_accuracy: 0.5844\n",
            "\n",
            "Epoch 00013: val_accuracy did not improve from 0.85111\n",
            "Epoch 14/200\n",
            "64/64 [==============================] - 83s 1s/step - loss: 0.0304 - accuracy: 0.9914 - val_loss: 1.1091 - val_accuracy: 0.7411\n",
            "\n",
            "Epoch 00014: val_accuracy did not improve from 0.85111\n",
            "Epoch 15/200\n",
            "64/64 [==============================] - 83s 1s/step - loss: 0.0350 - accuracy: 0.9901 - val_loss: 1.0207 - val_accuracy: 0.7444\n",
            "\n",
            "Epoch 00015: val_accuracy did not improve from 0.85111\n",
            "Epoch 16/200\n",
            "64/64 [==============================] - 83s 1s/step - loss: 0.0303 - accuracy: 0.9912 - val_loss: 0.7721 - val_accuracy: 0.7944\n",
            "\n",
            "Epoch 00016: val_accuracy did not improve from 0.85111\n",
            "Epoch 17/200\n",
            "64/64 [==============================] - 83s 1s/step - loss: 0.0293 - accuracy: 0.9926 - val_loss: 0.9610 - val_accuracy: 0.7822\n",
            "\n",
            "Epoch 00017: val_accuracy did not improve from 0.85111\n",
            "Epoch 18/200\n",
            "64/64 [==============================] - 83s 1s/step - loss: 0.0327 - accuracy: 0.9893 - val_loss: 0.9823 - val_accuracy: 0.7789\n",
            "\n",
            "Epoch 00018: val_accuracy did not improve from 0.85111\n",
            "Epoch 19/200\n",
            "64/64 [==============================] - 87s 1s/step - loss: 0.0357 - accuracy: 0.9885 - val_loss: 0.6789 - val_accuracy: 0.8178\n",
            "\n",
            "Epoch 00019: val_accuracy did not improve from 0.85111\n",
            "Epoch 20/200\n",
            "64/64 [==============================] - 85s 1s/step - loss: 0.0262 - accuracy: 0.9917 - val_loss: 0.5845 - val_accuracy: 0.8489\n",
            "\n",
            "Epoch 00020: val_accuracy did not improve from 0.85111\n",
            "Epoch 21/200\n",
            "64/64 [==============================] - 85s 1s/step - loss: 0.0256 - accuracy: 0.9935 - val_loss: 0.6913 - val_accuracy: 0.8222\n",
            "\n",
            "Epoch 00021: val_accuracy did not improve from 0.85111\n",
            "Epoch 22/200\n",
            "64/64 [==============================] - 87s 1s/step - loss: 0.0330 - accuracy: 0.9902 - val_loss: 4.8669 - val_accuracy: 0.3933\n",
            "\n",
            "Epoch 00022: val_accuracy did not improve from 0.85111\n",
            "Epoch 23/200\n",
            "64/64 [==============================] - 88s 1s/step - loss: 0.0280 - accuracy: 0.9912 - val_loss: 0.6668 - val_accuracy: 0.8389\n",
            "\n",
            "Epoch 00023: val_accuracy did not improve from 0.85111\n",
            "Epoch 24/200\n",
            "64/64 [==============================] - 85s 1s/step - loss: 0.0234 - accuracy: 0.9936 - val_loss: 0.9251 - val_accuracy: 0.7656\n",
            "\n",
            "Epoch 00024: val_accuracy did not improve from 0.85111\n",
            "Epoch 25/200\n",
            "64/64 [==============================] - 86s 1s/step - loss: 0.0319 - accuracy: 0.9900 - val_loss: 1.2093 - val_accuracy: 0.7322\n",
            "\n",
            "Epoch 00025: val_accuracy did not improve from 0.85111\n",
            "Epoch 26/200\n",
            "64/64 [==============================] - 86s 1s/step - loss: 0.0306 - accuracy: 0.9907 - val_loss: 1.1290 - val_accuracy: 0.7633\n",
            "\n",
            "Epoch 00026: val_accuracy did not improve from 0.85111\n",
            "Epoch 27/200\n",
            "64/64 [==============================] - 87s 1s/step - loss: 0.0178 - accuracy: 0.9943 - val_loss: 0.8458 - val_accuracy: 0.7933\n",
            "\n",
            "Epoch 00027: val_accuracy did not improve from 0.85111\n",
            "Epoch 28/200\n",
            "64/64 [==============================] - 85s 1s/step - loss: 0.0157 - accuracy: 0.9958 - val_loss: 0.7478 - val_accuracy: 0.8189\n",
            "\n",
            "Epoch 00028: val_accuracy did not improve from 0.85111\n",
            "Epoch 29/200\n",
            "64/64 [==============================] - 86s 1s/step - loss: 0.0188 - accuracy: 0.9953 - val_loss: 0.7043 - val_accuracy: 0.8289\n",
            "\n",
            "Epoch 00029: val_accuracy did not improve from 0.85111\n",
            "Epoch 30/200\n",
            "64/64 [==============================] - 87s 1s/step - loss: 0.0270 - accuracy: 0.9914 - val_loss: 3.4485 - val_accuracy: 0.4744\n",
            "\n",
            "Epoch 00030: val_accuracy did not improve from 0.85111\n",
            "Epoch 31/200\n",
            "64/64 [==============================] - 88s 1s/step - loss: 0.0261 - accuracy: 0.9931 - val_loss: 1.2907 - val_accuracy: 0.7222\n",
            "\n",
            "Epoch 00031: val_accuracy did not improve from 0.85111\n",
            "Epoch 32/200\n",
            "64/64 [==============================] - 87s 1s/step - loss: 0.0181 - accuracy: 0.9954 - val_loss: 0.7550 - val_accuracy: 0.8244\n",
            "\n",
            "Epoch 00032: val_accuracy did not improve from 0.85111\n",
            "Epoch 33/200\n",
            "64/64 [==============================] - 86s 1s/step - loss: 0.0165 - accuracy: 0.9965 - val_loss: 2.5451 - val_accuracy: 0.5744\n",
            "\n",
            "Epoch 00033: val_accuracy did not improve from 0.85111\n",
            "Epoch 00033: early stopping\n",
            "INFO:tensorflow:Assets written to: /content/drive/MyDrive/Courses/TDDE19/Kod/Grupp 2/genre_model(1)/assets\n"
          ]
        }
      ]
    },
    {
      "cell_type": "markdown",
      "source": [
        "# Load Loss Plot"
      ],
      "metadata": {
        "id": "QWmr8StuwIDp"
      }
    },
    {
      "cell_type": "code",
      "source": [
        "def render_training_history(training_history):\n",
        "    loss = training_history.history['loss']\n",
        "\n",
        "    plt.title('Loss')\n",
        "    plt.xlabel('Epoch')\n",
        "    plt.ylabel('Loss')\n",
        "    plt.plot(loss, label='Training set')\n",
        "    plt.legend()\n",
        "    plt.grid(linestyle='--', linewidth=1, alpha=0.5)\n",
        "    plt.show()\n",
        "\n",
        "render_training_history(history)"
      ],
      "metadata": {
        "colab": {
          "base_uri": "https://localhost:8080/",
          "height": 295
        },
        "id": "ZJ9lwR6Uvd5D",
        "outputId": "c42aee63-0c55-434b-d64b-1deb2a3494d6"
      },
      "execution_count": null,
      "outputs": [
        {
          "output_type": "display_data",
          "data": {
            "image/png": "[encoded data removed]",
            "text/plain": [
              "<Figure size 432x288 with 1 Axes>"
            ]
          },
          "metadata": {
            "needs_background": "light"
          }
        }
      ]
    },
    {
      "cell_type": "code",
      "source": [
        "print(history.history.keys())\n",
        "print(history.history)\n",
        "# summarize history for accuracy\n",
        "plt.plot(history.history['accuracy'])\n",
        "plt.plot(history.history['val_accuracy'])\n",
        "plt.title('model accuracy')\n",
        "plt.ylabel('accuracy')\n",
        "plt.xlabel('epoch')\n",
        "plt.legend(['train', 'val'], loc='upper left')\n",
        "plt.show()\n",
        "# summarize history for loss\n",
        "plt.plot(history.history['loss'])\n",
        "plt.plot(history.history['val_loss'])\n",
        "plt.title('model loss')\n",
        "plt.ylabel('loss')\n",
        "plt.xlabel('epoch')\n",
        "plt.legend(['train', 'val'], loc='upper left')\n",
        "plt.show()"
      ],
      "metadata": {
        "colab": {
          "base_uri": "https://localhost:8080/",
          "height": 627
        },
        "id": "9E3goOkg6d7v",
        "outputId": "4059f331-e9cd-4ae3-b9fd-da5bcb33ce0c"
      },
      "execution_count": null,
      "outputs": [
        {
          "output_type": "stream",
          "name": "stdout",
          "text": [
            "dict_keys(['loss', 'accuracy', 'val_loss', 'val_accuracy'])\n",
            "{'loss': [2.131870985031128, 1.4308924674987793, 1.201248288154602, 1.0678575038909912, 0.9493511319160461, 0.8789437413215637, 0.7840765714645386, 0.6808894276618958, 0.6325295567512512, 0.5998457670211792, 0.539244532585144, 0.4930296242237091, 0.46524256467819214, 0.4251250922679901, 0.35250869393348694, 0.32355841994285583, 0.2934289276599884, 0.2595425844192505, 0.2664330303668976, 0.22722439467906952, 0.1976851522922516, 0.1934974491596222, 0.16752953827381134, 0.15323898196220398, 0.13705354928970337, 0.1265655905008316, 0.11483580619096756, 0.10850974917411804, 0.09885457903146744, 0.0871889516711235, 0.08348774164915085, 0.0859108567237854, 0.07291413843631744, 0.07857208698987961, 0.07033099234104156, 0.058127619326114655, 0.0599295012652874, 0.05352208763360977, 0.06589625775814056, 0.06637472659349442, 0.04427340626716614, 0.04897235706448555, 0.038281284272670746, 0.037573542445898056, 0.03847957029938698, 0.04519973695278168, 0.03707493096590042], 'accuracy': [0.29987654089927673, 0.48802468180656433, 0.5732098817825317, 0.6286419630050659, 0.6717283725738525, 0.693456768989563, 0.7301234602928162, 0.7614814639091492, 0.7771604657173157, 0.7930864095687866, 0.8111110925674438, 0.8292592763900757, 0.8387654423713684, 0.8482716083526611, 0.8776543140411377, 0.8877778053283691, 0.8962963223457336, 0.9133333563804626, 0.906049370765686, 0.923086404800415, 0.9319753050804138, 0.9349382519721985, 0.9476543068885803, 0.9507407546043396, 0.9534568190574646, 0.9599999785423279, 0.9656789898872375, 0.9674074053764343, 0.970370352268219, 0.9750617146492004, 0.9755555391311646, 0.9774073958396912, 0.9795061945915222, 0.9777777791023254, 0.9793826937675476, 0.9851852059364319, 0.982962965965271, 0.9855555295944214, 0.9809876680374146, 0.9804938435554504, 0.9890123605728149, 0.9875308871269226, 0.9907407164573669, 0.992839515209198, 0.9908642172813416, 0.9896296262741089, 0.989506185054779], 'val_loss': [2.242318630218506, 2.8781301975250244, 4.038288593292236, 5.110954284667969, 4.118626117706299, 3.90500545501709, 3.0984811782836914, 2.312321662902832, 1.52059805393219, 1.3094367980957031, 0.907375156879425, 1.0346966981887817, 0.8920683264732361, 1.1989234685897827, 0.9189883470535278, 0.9966229200363159, 0.7309020161628723, 0.9884331822395325, 0.7836405038833618, 1.1479626893997192, 0.8687976598739624, 0.7810330986976624, 0.6007133722305298, 0.8052554130554199, 0.5744630694389343, 0.9814040660858154, 0.6048372983932495, 0.5912322402000427, 0.5450061559677124, 0.6445280909538269, 0.6672019958496094, 0.661889374256134, 0.6192885041236877, 0.593194305896759, 0.5178121328353882, 0.6474080681800842, 0.46217286586761475, 0.6407073140144348, 0.6089183688163757, 0.9904005527496338, 0.5732919573783875, 0.5342085361480713, 0.8388289213180542, 0.6348211169242859, 0.534752368927002, 0.7155323624610901, 0.8838033080101013], 'val_accuracy': [0.1111111119389534, 0.1111111119389534, 0.12555555999279022, 0.11444444209337234, 0.2011111080646515, 0.20555555820465088, 0.2588889002799988, 0.38777777552604675, 0.5344444513320923, 0.5199999809265137, 0.6755555272102356, 0.6633333563804626, 0.6677777767181396, 0.5911111235618591, 0.6677777767181396, 0.647777795791626, 0.7377777695655823, 0.6555555462837219, 0.7188888788223267, 0.6866666674613953, 0.7411110997200012, 0.7277777791023254, 0.7988888621330261, 0.7277777791023254, 0.8100000023841858, 0.6844444274902344, 0.8177777528762817, 0.8077777624130249, 0.8199999928474426, 0.7900000214576721, 0.7777777910232544, 0.7977777719497681, 0.79666668176651, 0.800000011920929, 0.8366666436195374, 0.800000011920929, 0.8422222137451172, 0.8022222518920898, 0.8055555820465088, 0.7066666483879089, 0.8244444727897644, 0.8411111235618591, 0.7755555510520935, 0.8033333420753479, 0.8322222232818604, 0.7855555415153503, 0.754444420337677]}\n"
          ]
        },
        {
          "output_type": "display_data",
          "data": {
            "image/png": "[encoded data removed]",
            "text/plain": [
              "<Figure size 432x288 with 1 Axes>"
            ]
          },
          "metadata": {
            "needs_background": "light"
          }
        },
        {
          "output_type": "display_data",
          "data": {
            "image/png": "[encoded data removed]",
            "text/plain": [
              "<Figure size 432x288 with 1 Axes>"
            ]
          },
          "metadata": {
            "needs_background": "light"
          }
        }
      ]
    },
    {
      "cell_type": "code",
      "metadata": {
        "colab": {
          "base_uri": "https://localhost:8080/"
        },
        "id": "ZknmnDRxA6HQ",
        "outputId": "054e0fe5-3c30-4c89-a2f5-59f2f176a8a9"
      },
      "source": [
        "model.evaluate(vali_generator)"
      ],
      "execution_count": null,
      "outputs": [
        {
          "output_type": "stream",
          "name": "stdout",
          "text": [
            "8/8 [==============================] - 150s 20s/step - loss: 0.6308 - accuracy: 0.8444\n"
          ]
        },
        {
          "output_type": "execute_result",
          "data": {
            "text/plain": [
              "[0.6308470368385315, 0.8444444537162781]"
            ]
          },
          "metadata": {},
          "execution_count": 6
        }
      ]
    },
    {
      "cell_type": "markdown",
      "source": [
        "8/8 [==============================] - 176s 21s/step - loss: 0.6308 - accuracy: 0.8444\n",
        "[0.6308470964431763, 0.8444444537162781]"
      ],
      "metadata": {
        "id": "cwXx48bezwXx"
      }
    },
    {
      "cell_type": "code",
      "metadata": {
        "colab": {
          "base_uri": "https://localhost:8080/"
        },
        "id": "gsBuSKqMocx0",
        "outputId": "96f85a3f-0d42-4f5d-ee0f-bacc6c1f8a38"
      },
      "source": [
        "model.evaluate(train_generator)"
      ],
      "execution_count": null,
      "outputs": [
        {
          "output_type": "stream",
          "name": "stdout",
          "text": [
            "64/64 [==============================] - 1733s 27s/step - loss: 0.0404 - accuracy: 0.9909\n"
          ]
        },
        {
          "output_type": "execute_result",
          "data": {
            "text/plain": [
              "[0.040374889969825745, 0.9908642172813416]"
            ]
          },
          "metadata": {},
          "execution_count": 16
        }
      ]
    },
    {
      "cell_type": "code",
      "metadata": {
        "id": "XEl25ouodRg8",
        "colab": {
          "base_uri": "https://localhost:8080/",
          "height": 375
        },
        "outputId": "e08f6d72-f5ef-4701-f356-1a6fd318e14a"
      },
      "source": [
        "from sklearn.metrics import classification_report, confusion_matrix\n",
        "from sklearn.metrics import ConfusionMatrixDisplay\n",
        "from sklearn.metrics import confusion_matrix\n",
        "import matplotlib.pyplot as plt\n",
        "import numpy as np\n",
        "\n",
        "#Confution Matrix and Classification Report\n",
        "Y_pred = model.predict(vali_generator)\n",
        "y_pred = np.argmax(Y_pred, axis=1)\n",
        "print('Confusion Matrix')\n",
        "cm = confusion_matrix(vali_generator.classes, y_pred)\n",
        "\n",
        "print('Classification Report')\n",
        "print(classification_report(vali_generator.classes, y_pred, target_names=genres))\n",
        "\n",
        "disp = ConfusionMatrixDisplay(confusion_matrix=cm, display_labels=genres)\n",
        "\n",
        "disp.plot(cmap=plt.cm.Blues)\n",
        "plt.show()"
      ],
      "execution_count": null,
      "outputs": [
        {
          "output_type": "error",
          "ename": "KeyboardInterrupt",
          "evalue": "ignored",
          "traceback": [
            "\u001b[0;31m---------------------------------------------------------------------------\u001b[0m",
            "\u001b[0;31mKeyboardInterrupt\u001b[0m                         Traceback (most recent call last)",
            "\u001b[0;32m<ipython-input-20-c1caac12afb5>\u001b[0m in \u001b[0;36m<module>\u001b[0;34m()\u001b[0m\n\u001b[1;32m      6\u001b[0m \u001b[0;34m\u001b[0m\u001b[0m\n\u001b[1;32m      7\u001b[0m \u001b[0;31m#Confution Matrix and Classification Report\u001b[0m\u001b[0;34m\u001b[0m\u001b[0;34m\u001b[0m\u001b[0;34m\u001b[0m\u001b[0m\n\u001b[0;32m----> 8\u001b[0;31m \u001b[0mY_pred\u001b[0m \u001b[0;34m=\u001b[0m \u001b[0mmodel\u001b[0m\u001b[0;34m.\u001b[0m\u001b[0mpredict\u001b[0m\u001b[0;34m(\u001b[0m\u001b[0mtrain_generator\u001b[0m\u001b[0;34m)\u001b[0m\u001b[0;34m\u001b[0m\u001b[0;34m\u001b[0m\u001b[0m\n\u001b[0m\u001b[1;32m      9\u001b[0m \u001b[0my_pred\u001b[0m \u001b[0;34m=\u001b[0m \u001b[0mnp\u001b[0m\u001b[0;34m.\u001b[0m\u001b[0margmax\u001b[0m\u001b[0;34m(\u001b[0m\u001b[0mY_pred\u001b[0m\u001b[0;34m,\u001b[0m \u001b[0maxis\u001b[0m\u001b[0;34m=\u001b[0m\u001b[0;36m1\u001b[0m\u001b[0;34m)\u001b[0m\u001b[0;34m\u001b[0m\u001b[0;34m\u001b[0m\u001b[0m\n\u001b[1;32m     10\u001b[0m \u001b[0mprint\u001b[0m\u001b[0;34m(\u001b[0m\u001b[0;34m'Confusion Matrix'\u001b[0m\u001b[0;34m)\u001b[0m\u001b[0;34m\u001b[0m\u001b[0;34m\u001b[0m\u001b[0m\n",
            "\u001b[0;32m/usr/local/lib/python3.7/dist-packages/keras/utils/traceback_utils.py\u001b[0m in \u001b[0;36merror_handler\u001b[0;34m(*args, **kwargs)\u001b[0m\n\u001b[1;32m     62\u001b[0m     \u001b[0mfiltered_tb\u001b[0m \u001b[0;34m=\u001b[0m \u001b[0;32mNone\u001b[0m\u001b[0;34m\u001b[0m\u001b[0;34m\u001b[0m\u001b[0m\n\u001b[1;32m     63\u001b[0m     \u001b[0;32mtry\u001b[0m\u001b[0;34m:\u001b[0m\u001b[0;34m\u001b[0m\u001b[0;34m\u001b[0m\u001b[0m\n\u001b[0;32m---> 64\u001b[0;31m       \u001b[0;32mreturn\u001b[0m \u001b[0mfn\u001b[0m\u001b[0;34m(\u001b[0m\u001b[0;34m*\u001b[0m\u001b[0margs\u001b[0m\u001b[0;34m,\u001b[0m \u001b[0;34m**\u001b[0m\u001b[0mkwargs\u001b[0m\u001b[0;34m)\u001b[0m\u001b[0;34m\u001b[0m\u001b[0;34m\u001b[0m\u001b[0m\n\u001b[0m\u001b[1;32m     65\u001b[0m     \u001b[0;32mexcept\u001b[0m \u001b[0mException\u001b[0m \u001b[0;32mas\u001b[0m \u001b[0me\u001b[0m\u001b[0;34m:\u001b[0m  \u001b[0;31m# pylint: disable=broad-except\u001b[0m\u001b[0;34m\u001b[0m\u001b[0;34m\u001b[0m\u001b[0m\n\u001b[1;32m     66\u001b[0m       \u001b[0mfiltered_tb\u001b[0m \u001b[0;34m=\u001b[0m \u001b[0m_process_traceback_frames\u001b[0m\u001b[0;34m(\u001b[0m\u001b[0me\u001b[0m\u001b[0;34m.\u001b[0m\u001b[0m__traceback__\u001b[0m\u001b[0;34m)\u001b[0m\u001b[0;34m\u001b[0m\u001b[0;34m\u001b[0m\u001b[0m\n",
            "\u001b[0;32m/usr/local/lib/python3.7/dist-packages/keras/engine/training.py\u001b[0m in \u001b[0;36mpredict\u001b[0;34m(self, x, batch_size, verbose, steps, callbacks, max_queue_size, workers, use_multiprocessing)\u001b[0m\n\u001b[1;32m   1787\u001b[0m           \u001b[0;32mfor\u001b[0m \u001b[0mstep\u001b[0m \u001b[0;32min\u001b[0m \u001b[0mdata_handler\u001b[0m\u001b[0;34m.\u001b[0m\u001b[0msteps\u001b[0m\u001b[0;34m(\u001b[0m\u001b[0;34m)\u001b[0m\u001b[0;34m:\u001b[0m\u001b[0;34m\u001b[0m\u001b[0;34m\u001b[0m\u001b[0m\n\u001b[1;32m   1788\u001b[0m             \u001b[0mcallbacks\u001b[0m\u001b[0;34m.\u001b[0m\u001b[0mon_predict_batch_begin\u001b[0m\u001b[0;34m(\u001b[0m\u001b[0mstep\u001b[0m\u001b[0;34m)\u001b[0m\u001b[0;34m\u001b[0m\u001b[0;34m\u001b[0m\u001b[0m\n\u001b[0;32m-> 1789\u001b[0;31m             \u001b[0mtmp_batch_outputs\u001b[0m \u001b[0;34m=\u001b[0m \u001b[0mself\u001b[0m\u001b[0;34m.\u001b[0m\u001b[0mpredict_function\u001b[0m\u001b[0;34m(\u001b[0m\u001b[0miterator\u001b[0m\u001b[0;34m)\u001b[0m\u001b[0;34m\u001b[0m\u001b[0;34m\u001b[0m\u001b[0m\n\u001b[0m\u001b[1;32m   1790\u001b[0m             \u001b[0;32mif\u001b[0m \u001b[0mdata_handler\u001b[0m\u001b[0;34m.\u001b[0m\u001b[0mshould_sync\u001b[0m\u001b[0;34m:\u001b[0m\u001b[0;34m\u001b[0m\u001b[0;34m\u001b[0m\u001b[0m\n\u001b[1;32m   1791\u001b[0m               \u001b[0mcontext\u001b[0m\u001b[0;34m.\u001b[0m\u001b[0masync_wait\u001b[0m\u001b[0;34m(\u001b[0m\u001b[0;34m)\u001b[0m\u001b[0;34m\u001b[0m\u001b[0;34m\u001b[0m\u001b[0m\n",
            "\u001b[0;32m/usr/local/lib/python3.7/dist-packages/tensorflow/python/util/traceback_utils.py\u001b[0m in \u001b[0;36merror_handler\u001b[0;34m(*args, **kwargs)\u001b[0m\n\u001b[1;32m    148\u001b[0m     \u001b[0mfiltered_tb\u001b[0m \u001b[0;34m=\u001b[0m \u001b[0;32mNone\u001b[0m\u001b[0;34m\u001b[0m\u001b[0;34m\u001b[0m\u001b[0m\n\u001b[1;32m    149\u001b[0m     \u001b[0;32mtry\u001b[0m\u001b[0;34m:\u001b[0m\u001b[0;34m\u001b[0m\u001b[0;34m\u001b[0m\u001b[0m\n\u001b[0;32m--> 150\u001b[0;31m       \u001b[0;32mreturn\u001b[0m \u001b[0mfn\u001b[0m\u001b[0;34m(\u001b[0m\u001b[0;34m*\u001b[0m\u001b[0margs\u001b[0m\u001b[0;34m,\u001b[0m \u001b[0;34m**\u001b[0m\u001b[0mkwargs\u001b[0m\u001b[0;34m)\u001b[0m\u001b[0;34m\u001b[0m\u001b[0;34m\u001b[0m\u001b[0m\n\u001b[0m\u001b[1;32m    151\u001b[0m     \u001b[0;32mexcept\u001b[0m \u001b[0mException\u001b[0m \u001b[0;32mas\u001b[0m \u001b[0me\u001b[0m\u001b[0;34m:\u001b[0m\u001b[0;34m\u001b[0m\u001b[0;34m\u001b[0m\u001b[0m\n\u001b[1;32m    152\u001b[0m       \u001b[0mfiltered_tb\u001b[0m \u001b[0;34m=\u001b[0m \u001b[0m_process_traceback_frames\u001b[0m\u001b[0;34m(\u001b[0m\u001b[0me\u001b[0m\u001b[0;34m.\u001b[0m\u001b[0m__traceback__\u001b[0m\u001b[0;34m)\u001b[0m\u001b[0;34m\u001b[0m\u001b[0;34m\u001b[0m\u001b[0m\n",
            "\u001b[0;32m/usr/local/lib/python3.7/dist-packages/tensorflow/python/eager/def_function.py\u001b[0m in \u001b[0;36m__call__\u001b[0;34m(self, *args, **kwds)\u001b[0m\n\u001b[1;32m    908\u001b[0m \u001b[0;34m\u001b[0m\u001b[0m\n\u001b[1;32m    909\u001b[0m       \u001b[0;32mwith\u001b[0m \u001b[0mOptionalXlaContext\u001b[0m\u001b[0;34m(\u001b[0m\u001b[0mself\u001b[0m\u001b[0;34m.\u001b[0m\u001b[0m_jit_compile\u001b[0m\u001b[0;34m)\u001b[0m\u001b[0;34m:\u001b[0m\u001b[0;34m\u001b[0m\u001b[0;34m\u001b[0m\u001b[0m\n\u001b[0;32m--> 910\u001b[0;31m         \u001b[0mresult\u001b[0m \u001b[0;34m=\u001b[0m \u001b[0mself\u001b[0m\u001b[0;34m.\u001b[0m\u001b[0m_call\u001b[0m\u001b[0;34m(\u001b[0m\u001b[0;34m*\u001b[0m\u001b[0margs\u001b[0m\u001b[0;34m,\u001b[0m \u001b[0;34m**\u001b[0m\u001b[0mkwds\u001b[0m\u001b[0;34m)\u001b[0m\u001b[0;34m\u001b[0m\u001b[0;34m\u001b[0m\u001b[0m\n\u001b[0m\u001b[1;32m    911\u001b[0m \u001b[0;34m\u001b[0m\u001b[0m\n\u001b[1;32m    912\u001b[0m       \u001b[0mnew_tracing_count\u001b[0m \u001b[0;34m=\u001b[0m \u001b[0mself\u001b[0m\u001b[0;34m.\u001b[0m\u001b[0mexperimental_get_tracing_count\u001b[0m\u001b[0;34m(\u001b[0m\u001b[0;34m)\u001b[0m\u001b[0;34m\u001b[0m\u001b[0;34m\u001b[0m\u001b[0m\n",
            "\u001b[0;32m/usr/local/lib/python3.7/dist-packages/tensorflow/python/eager/def_function.py\u001b[0m in \u001b[0;36m_call\u001b[0;34m(self, *args, **kwds)\u001b[0m\n\u001b[1;32m    947\u001b[0m       \u001b[0;31m# In this case we have not created variables on the first call. So we can\u001b[0m\u001b[0;34m\u001b[0m\u001b[0;34m\u001b[0m\u001b[0;34m\u001b[0m\u001b[0m\n\u001b[1;32m    948\u001b[0m       \u001b[0;31m# run the first trace but we should fail if variables are created.\u001b[0m\u001b[0;34m\u001b[0m\u001b[0;34m\u001b[0m\u001b[0;34m\u001b[0m\u001b[0m\n\u001b[0;32m--> 949\u001b[0;31m       \u001b[0mresults\u001b[0m \u001b[0;34m=\u001b[0m \u001b[0mself\u001b[0m\u001b[0;34m.\u001b[0m\u001b[0m_stateful_fn\u001b[0m\u001b[0;34m(\u001b[0m\u001b[0;34m*\u001b[0m\u001b[0margs\u001b[0m\u001b[0;34m,\u001b[0m \u001b[0;34m**\u001b[0m\u001b[0mkwds\u001b[0m\u001b[0;34m)\u001b[0m\u001b[0;34m\u001b[0m\u001b[0;34m\u001b[0m\u001b[0m\n\u001b[0m\u001b[1;32m    950\u001b[0m       \u001b[0;32mif\u001b[0m \u001b[0mself\u001b[0m\u001b[0;34m.\u001b[0m\u001b[0m_created_variables\u001b[0m \u001b[0;32mand\u001b[0m \u001b[0;32mnot\u001b[0m \u001b[0mALLOW_DYNAMIC_VARIABLE_CREATION\u001b[0m\u001b[0;34m:\u001b[0m\u001b[0;34m\u001b[0m\u001b[0;34m\u001b[0m\u001b[0m\n\u001b[1;32m    951\u001b[0m         raise ValueError(\"Creating variables on a non-first call to a function\"\n",
            "\u001b[0;32m/usr/local/lib/python3.7/dist-packages/tensorflow/python/eager/function.py\u001b[0m in \u001b[0;36m__call__\u001b[0;34m(self, *args, **kwargs)\u001b[0m\n\u001b[1;32m   3129\u001b[0m        filtered_flat_args) = self._maybe_define_function(args, kwargs)\n\u001b[1;32m   3130\u001b[0m     return graph_function._call_flat(\n\u001b[0;32m-> 3131\u001b[0;31m         filtered_flat_args, captured_inputs=graph_function.captured_inputs)  # pylint: disable=protected-access\n\u001b[0m\u001b[1;32m   3132\u001b[0m \u001b[0;34m\u001b[0m\u001b[0m\n\u001b[1;32m   3133\u001b[0m   \u001b[0;34m@\u001b[0m\u001b[0mproperty\u001b[0m\u001b[0;34m\u001b[0m\u001b[0;34m\u001b[0m\u001b[0m\n",
            "\u001b[0;32m/usr/local/lib/python3.7/dist-packages/tensorflow/python/eager/function.py\u001b[0m in \u001b[0;36m_call_flat\u001b[0;34m(self, args, captured_inputs, cancellation_manager)\u001b[0m\n\u001b[1;32m   1958\u001b[0m       \u001b[0;31m# No tape is watching; skip to running the function.\u001b[0m\u001b[0;34m\u001b[0m\u001b[0;34m\u001b[0m\u001b[0;34m\u001b[0m\u001b[0m\n\u001b[1;32m   1959\u001b[0m       return self._build_call_outputs(self._inference_function.call(\n\u001b[0;32m-> 1960\u001b[0;31m           ctx, args, cancellation_manager=cancellation_manager))\n\u001b[0m\u001b[1;32m   1961\u001b[0m     forward_backward = self._select_forward_and_backward_functions(\n\u001b[1;32m   1962\u001b[0m         \u001b[0margs\u001b[0m\u001b[0;34m,\u001b[0m\u001b[0;34m\u001b[0m\u001b[0;34m\u001b[0m\u001b[0m\n",
            "\u001b[0;32m/usr/local/lib/python3.7/dist-packages/tensorflow/python/eager/function.py\u001b[0m in \u001b[0;36mcall\u001b[0;34m(self, ctx, args, cancellation_manager)\u001b[0m\n\u001b[1;32m    601\u001b[0m               \u001b[0minputs\u001b[0m\u001b[0;34m=\u001b[0m\u001b[0margs\u001b[0m\u001b[0;34m,\u001b[0m\u001b[0;34m\u001b[0m\u001b[0;34m\u001b[0m\u001b[0m\n\u001b[1;32m    602\u001b[0m               \u001b[0mattrs\u001b[0m\u001b[0;34m=\u001b[0m\u001b[0mattrs\u001b[0m\u001b[0;34m,\u001b[0m\u001b[0;34m\u001b[0m\u001b[0;34m\u001b[0m\u001b[0m\n\u001b[0;32m--> 603\u001b[0;31m               ctx=ctx)\n\u001b[0m\u001b[1;32m    604\u001b[0m         \u001b[0;32melse\u001b[0m\u001b[0;34m:\u001b[0m\u001b[0;34m\u001b[0m\u001b[0;34m\u001b[0m\u001b[0m\n\u001b[1;32m    605\u001b[0m           outputs = execute.execute_with_cancellation(\n",
            "\u001b[0;32m/usr/local/lib/python3.7/dist-packages/tensorflow/python/eager/execute.py\u001b[0m in \u001b[0;36mquick_execute\u001b[0;34m(op_name, num_outputs, inputs, attrs, ctx, name)\u001b[0m\n\u001b[1;32m     57\u001b[0m     \u001b[0mctx\u001b[0m\u001b[0;34m.\u001b[0m\u001b[0mensure_initialized\u001b[0m\u001b[0;34m(\u001b[0m\u001b[0;34m)\u001b[0m\u001b[0;34m\u001b[0m\u001b[0;34m\u001b[0m\u001b[0m\n\u001b[1;32m     58\u001b[0m     tensors = pywrap_tfe.TFE_Py_Execute(ctx._handle, device_name, op_name,\n\u001b[0;32m---> 59\u001b[0;31m                                         inputs, attrs, num_outputs)\n\u001b[0m\u001b[1;32m     60\u001b[0m   \u001b[0;32mexcept\u001b[0m \u001b[0mcore\u001b[0m\u001b[0;34m.\u001b[0m\u001b[0m_NotOkStatusException\u001b[0m \u001b[0;32mas\u001b[0m \u001b[0me\u001b[0m\u001b[0;34m:\u001b[0m\u001b[0;34m\u001b[0m\u001b[0;34m\u001b[0m\u001b[0m\n\u001b[1;32m     61\u001b[0m     \u001b[0;32mif\u001b[0m \u001b[0mname\u001b[0m \u001b[0;32mis\u001b[0m \u001b[0;32mnot\u001b[0m \u001b[0;32mNone\u001b[0m\u001b[0;34m:\u001b[0m\u001b[0;34m\u001b[0m\u001b[0;34m\u001b[0m\u001b[0m\n",
            "\u001b[0;31mKeyboardInterrupt\u001b[0m: "
          ]
        }
      ]
    },
    {
      "cell_type": "code",
      "source": [
        "metrics.confusion_matrix(y_test.argmax(axis=1), y_pred.argmax(axis=1))"
      ],
      "metadata": {
        "id": "9CaJbCc4MHSA"
      },
      "execution_count": null,
      "outputs": []
    }
  ]
}